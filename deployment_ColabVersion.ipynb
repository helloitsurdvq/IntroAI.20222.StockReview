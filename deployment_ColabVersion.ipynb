{
 "cells": [
  {
   "cell_type": "markdown",
   "metadata": {},
   "source": [
    "# Libraries \n",
    "\n",
    "* Do not worry about the warning, keep going."
   ]
  },
  {
   "cell_type": "code",
   "execution_count": 1,
   "metadata": {},
   "outputs": [
    {
     "name": "stderr",
     "output_type": "stream",
     "text": [
      "ERROR: Could not find a version that satisfies the requirement re (from versions: none)\n",
      "ERROR: No matching distribution found for re\n",
      "ERROR: Could not find a version that satisfies the requirement string (from versions: none)\n",
      "ERROR: No matching distribution found for string\n"
     ]
    },
    {
     "name": "stdout",
     "output_type": "stream",
     "text": [
      "Requirement already satisfied: flask in c:\\users\\dell\\programming\\python\\stockreview.introai.20222\\venv\\lib\\site-packages (2.3.2)\n",
      "Requirement already satisfied: Werkzeug>=2.3.3 in c:\\users\\dell\\programming\\python\\stockreview.introai.20222\\venv\\lib\\site-packages (from flask) (2.3.4)\n",
      "Requirement already satisfied: Jinja2>=3.1.2 in c:\\users\\dell\\programming\\python\\stockreview.introai.20222\\venv\\lib\\site-packages (from flask) (3.1.2)\n",
      "Requirement already satisfied: itsdangerous>=2.1.2 in c:\\users\\dell\\programming\\python\\stockreview.introai.20222\\venv\\lib\\site-packages (from flask) (2.1.2)\n",
      "Requirement already satisfied: click>=8.1.3 in c:\\users\\dell\\programming\\python\\stockreview.introai.20222\\venv\\lib\\site-packages (from flask) (8.1.3)\n",
      "Requirement already satisfied: blinker>=1.6.2 in c:\\users\\dell\\programming\\python\\stockreview.introai.20222\\venv\\lib\\site-packages (from flask) (1.6.2)\n",
      "Requirement already satisfied: colorama in c:\\users\\dell\\programming\\python\\stockreview.introai.20222\\venv\\lib\\site-packages (from click>=8.1.3->flask) (0.4.6)\n",
      "Requirement already satisfied: MarkupSafe>=2.0 in c:\\users\\dell\\programming\\python\\stockreview.introai.20222\\venv\\lib\\site-packages (from Jinja2>=3.1.2->flask) (2.1.2)\n",
      "Requirement already satisfied: transformers in c:\\users\\dell\\programming\\python\\stockreview.introai.20222\\venv\\lib\\site-packages (4.29.2)\n",
      "Requirement already satisfied: filelock in c:\\users\\dell\\programming\\python\\stockreview.introai.20222\\venv\\lib\\site-packages (from transformers) (3.12.0)\n",
      "Requirement already satisfied: huggingface-hub<1.0,>=0.14.1 in c:\\users\\dell\\programming\\python\\stockreview.introai.20222\\venv\\lib\\site-packages (from transformers) (0.14.1)\n",
      "Requirement already satisfied: numpy>=1.17 in c:\\users\\dell\\programming\\python\\stockreview.introai.20222\\venv\\lib\\site-packages (from transformers) (1.23.5)\n",
      "Requirement already satisfied: packaging>=20.0 in c:\\users\\dell\\programming\\python\\stockreview.introai.20222\\venv\\lib\\site-packages (from transformers) (23.1)\n",
      "Requirement already satisfied: pyyaml>=5.1 in c:\\users\\dell\\programming\\python\\stockreview.introai.20222\\venv\\lib\\site-packages (from transformers) (6.0)\n",
      "Requirement already satisfied: regex!=2019.12.17 in c:\\users\\dell\\programming\\python\\stockreview.introai.20222\\venv\\lib\\site-packages (from transformers) (2023.5.5)\n",
      "Requirement already satisfied: requests in c:\\users\\dell\\programming\\python\\stockreview.introai.20222\\venv\\lib\\site-packages (from transformers) (2.31.0)\n",
      "Requirement already satisfied: tokenizers!=0.11.3,<0.14,>=0.11.1 in c:\\users\\dell\\programming\\python\\stockreview.introai.20222\\venv\\lib\\site-packages (from transformers) (0.13.3)\n",
      "Requirement already satisfied: tqdm>=4.27 in c:\\users\\dell\\programming\\python\\stockreview.introai.20222\\venv\\lib\\site-packages (from transformers) (4.65.0)\n",
      "Requirement already satisfied: fsspec in c:\\users\\dell\\programming\\python\\stockreview.introai.20222\\venv\\lib\\site-packages (from huggingface-hub<1.0,>=0.14.1->transformers) (2023.5.0)\n",
      "Requirement already satisfied: typing-extensions>=3.7.4.3 in c:\\users\\dell\\programming\\python\\stockreview.introai.20222\\venv\\lib\\site-packages (from huggingface-hub<1.0,>=0.14.1->transformers) (4.6.2)\n",
      "Requirement already satisfied: colorama in c:\\users\\dell\\programming\\python\\stockreview.introai.20222\\venv\\lib\\site-packages (from tqdm>=4.27->transformers) (0.4.6)\n",
      "Requirement already satisfied: charset-normalizer<4,>=2 in c:\\users\\dell\\programming\\python\\stockreview.introai.20222\\venv\\lib\\site-packages (from requests->transformers) (3.1.0)\n",
      "Requirement already satisfied: idna<4,>=2.5 in c:\\users\\dell\\programming\\python\\stockreview.introai.20222\\venv\\lib\\site-packages (from requests->transformers) (3.4)\n",
      "Requirement already satisfied: urllib3<3,>=1.21.1 in c:\\users\\dell\\programming\\python\\stockreview.introai.20222\\venv\\lib\\site-packages (from requests->transformers) (1.26.16)\n",
      "Requirement already satisfied: certifi>=2017.4.17 in c:\\users\\dell\\programming\\python\\stockreview.introai.20222\\venv\\lib\\site-packages (from requests->transformers) (2023.5.7)\n",
      "Requirement already satisfied: torchtext in c:\\users\\dell\\programming\\python\\stockreview.introai.20222\\venv\\lib\\site-packages (0.15.2)\n",
      "Requirement already satisfied: tqdm in c:\\users\\dell\\programming\\python\\stockreview.introai.20222\\venv\\lib\\site-packages (from torchtext) (4.65.0)\n",
      "Requirement already satisfied: requests in c:\\users\\dell\\programming\\python\\stockreview.introai.20222\\venv\\lib\\site-packages (from torchtext) (2.31.0)\n",
      "Requirement already satisfied: torch==2.0.1 in c:\\users\\dell\\programming\\python\\stockreview.introai.20222\\venv\\lib\\site-packages (from torchtext) (2.0.1)\n",
      "Requirement already satisfied: numpy in c:\\users\\dell\\programming\\python\\stockreview.introai.20222\\venv\\lib\\site-packages (from torchtext) (1.23.5)\n",
      "Requirement already satisfied: torchdata==0.6.1 in c:\\users\\dell\\programming\\python\\stockreview.introai.20222\\venv\\lib\\site-packages (from torchtext) (0.6.1)\n",
      "Requirement already satisfied: filelock in c:\\users\\dell\\programming\\python\\stockreview.introai.20222\\venv\\lib\\site-packages (from torch==2.0.1->torchtext) (3.12.0)\n",
      "Requirement already satisfied: typing-extensions in c:\\users\\dell\\programming\\python\\stockreview.introai.20222\\venv\\lib\\site-packages (from torch==2.0.1->torchtext) (4.6.2)\n",
      "Requirement already satisfied: sympy in c:\\users\\dell\\programming\\python\\stockreview.introai.20222\\venv\\lib\\site-packages (from torch==2.0.1->torchtext) (1.12)\n",
      "Requirement already satisfied: networkx in c:\\users\\dell\\programming\\python\\stockreview.introai.20222\\venv\\lib\\site-packages (from torch==2.0.1->torchtext) (3.1)\n",
      "Requirement already satisfied: jinja2 in c:\\users\\dell\\programming\\python\\stockreview.introai.20222\\venv\\lib\\site-packages (from torch==2.0.1->torchtext) (3.1.2)\n",
      "Requirement already satisfied: urllib3>=1.25 in c:\\users\\dell\\programming\\python\\stockreview.introai.20222\\venv\\lib\\site-packages (from torchdata==0.6.1->torchtext) (1.26.16)\n",
      "Requirement already satisfied: charset-normalizer<4,>=2 in c:\\users\\dell\\programming\\python\\stockreview.introai.20222\\venv\\lib\\site-packages (from requests->torchtext) (3.1.0)\n",
      "Requirement already satisfied: idna<4,>=2.5 in c:\\users\\dell\\programming\\python\\stockreview.introai.20222\\venv\\lib\\site-packages (from requests->torchtext) (3.4)\n",
      "Requirement already satisfied: certifi>=2017.4.17 in c:\\users\\dell\\programming\\python\\stockreview.introai.20222\\venv\\lib\\site-packages (from requests->torchtext) (2023.5.7)\n",
      "Requirement already satisfied: colorama in c:\\users\\dell\\programming\\python\\stockreview.introai.20222\\venv\\lib\\site-packages (from tqdm->torchtext) (0.4.6)\n",
      "Requirement already satisfied: MarkupSafe>=2.0 in c:\\users\\dell\\programming\\python\\stockreview.introai.20222\\venv\\lib\\site-packages (from jinja2->torch==2.0.1->torchtext) (2.1.2)\n",
      "Requirement already satisfied: mpmath>=0.19 in c:\\users\\dell\\programming\\python\\stockreview.introai.20222\\venv\\lib\\site-packages (from sympy->torch==2.0.1->torchtext) (1.3.0)\n",
      "Requirement already satisfied: torch in c:\\users\\dell\\programming\\python\\stockreview.introai.20222\\venv\\lib\\site-packages (2.0.1)\n",
      "Requirement already satisfied: filelock in c:\\users\\dell\\programming\\python\\stockreview.introai.20222\\venv\\lib\\site-packages (from torch) (3.12.0)\n",
      "Requirement already satisfied: typing-extensions in c:\\users\\dell\\programming\\python\\stockreview.introai.20222\\venv\\lib\\site-packages (from torch) (4.6.2)\n",
      "Requirement already satisfied: sympy in c:\\users\\dell\\programming\\python\\stockreview.introai.20222\\venv\\lib\\site-packages (from torch) (1.12)\n",
      "Requirement already satisfied: networkx in c:\\users\\dell\\programming\\python\\stockreview.introai.20222\\venv\\lib\\site-packages (from torch) (3.1)\n",
      "Requirement already satisfied: jinja2 in c:\\users\\dell\\programming\\python\\stockreview.introai.20222\\venv\\lib\\site-packages (from torch) (3.1.2)\n",
      "Requirement already satisfied: MarkupSafe>=2.0 in c:\\users\\dell\\programming\\python\\stockreview.introai.20222\\venv\\lib\\site-packages (from jinja2->torch) (2.1.2)\n",
      "Requirement already satisfied: mpmath>=0.19 in c:\\users\\dell\\programming\\python\\stockreview.introai.20222\\venv\\lib\\site-packages (from sympy->torch) (1.3.0)\n",
      "Requirement already satisfied: matplotlib in c:\\users\\dell\\programming\\python\\stockreview.introai.20222\\venv\\lib\\site-packages (3.7.1)\n",
      "Requirement already satisfied: contourpy>=1.0.1 in c:\\users\\dell\\programming\\python\\stockreview.introai.20222\\venv\\lib\\site-packages (from matplotlib) (1.0.7)\n",
      "Requirement already satisfied: cycler>=0.10 in c:\\users\\dell\\programming\\python\\stockreview.introai.20222\\venv\\lib\\site-packages (from matplotlib) (0.11.0)\n",
      "Requirement already satisfied: fonttools>=4.22.0 in c:\\users\\dell\\programming\\python\\stockreview.introai.20222\\venv\\lib\\site-packages (from matplotlib) (4.39.4)\n",
      "Requirement already satisfied: kiwisolver>=1.0.1 in c:\\users\\dell\\programming\\python\\stockreview.introai.20222\\venv\\lib\\site-packages (from matplotlib) (1.4.4)\n",
      "Requirement already satisfied: numpy>=1.20 in c:\\users\\dell\\programming\\python\\stockreview.introai.20222\\venv\\lib\\site-packages (from matplotlib) (1.23.5)\n",
      "Requirement already satisfied: packaging>=20.0 in c:\\users\\dell\\programming\\python\\stockreview.introai.20222\\venv\\lib\\site-packages (from matplotlib) (23.1)\n",
      "Requirement already satisfied: pillow>=6.2.0 in c:\\users\\dell\\programming\\python\\stockreview.introai.20222\\venv\\lib\\site-packages (from matplotlib) (9.5.0)\n",
      "Requirement already satisfied: pyparsing>=2.3.1 in c:\\users\\dell\\programming\\python\\stockreview.introai.20222\\venv\\lib\\site-packages (from matplotlib) (3.0.9)\n",
      "Requirement already satisfied: python-dateutil>=2.7 in c:\\users\\dell\\programming\\python\\stockreview.introai.20222\\venv\\lib\\site-packages (from matplotlib) (2.8.2)\n",
      "Requirement already satisfied: six>=1.5 in c:\\users\\dell\\programming\\python\\stockreview.introai.20222\\venv\\lib\\site-packages (from python-dateutil>=2.7->matplotlib) (1.16.0)\n",
      "Requirement already satisfied: requests in c:\\users\\dell\\programming\\python\\stockreview.introai.20222\\venv\\lib\\site-packages (2.31.0)\n",
      "Requirement already satisfied: charset-normalizer<4,>=2 in c:\\users\\dell\\programming\\python\\stockreview.introai.20222\\venv\\lib\\site-packages (from requests) (3.1.0)\n",
      "Requirement already satisfied: idna<4,>=2.5 in c:\\users\\dell\\programming\\python\\stockreview.introai.20222\\venv\\lib\\site-packages (from requests) (3.4)\n",
      "Requirement already satisfied: urllib3<3,>=1.21.1 in c:\\users\\dell\\programming\\python\\stockreview.introai.20222\\venv\\lib\\site-packages (from requests) (1.26.16)\n",
      "Requirement already satisfied: certifi>=2017.4.17 in c:\\users\\dell\\programming\\python\\stockreview.introai.20222\\venv\\lib\\site-packages (from requests) (2023.5.7)\n",
      "Requirement already satisfied: bs4 in c:\\users\\dell\\programming\\python\\stockreview.introai.20222\\venv\\lib\\site-packages (0.0.1)\n",
      "Requirement already satisfied: beautifulsoup4 in c:\\users\\dell\\programming\\python\\stockreview.introai.20222\\venv\\lib\\site-packages (from bs4) (4.12.2)\n",
      "Requirement already satisfied: soupsieve>1.2 in c:\\users\\dell\\programming\\python\\stockreview.introai.20222\\venv\\lib\\site-packages (from beautifulsoup4->bs4) (2.4.1)\n",
      "Requirement already satisfied: pyvi in c:\\users\\dell\\programming\\python\\stockreview.introai.20222\\venv\\lib\\site-packages (0.1.1)\n",
      "Requirement already satisfied: scikit-learn in c:\\users\\dell\\programming\\python\\stockreview.introai.20222\\venv\\lib\\site-packages (from pyvi) (1.2.2)\n",
      "Requirement already satisfied: sklearn-crfsuite in c:\\users\\dell\\programming\\python\\stockreview.introai.20222\\venv\\lib\\site-packages (from pyvi) (0.3.6)\n",
      "Requirement already satisfied: numpy>=1.17.3 in c:\\users\\dell\\programming\\python\\stockreview.introai.20222\\venv\\lib\\site-packages (from scikit-learn->pyvi) (1.23.5)\n",
      "Requirement already satisfied: scipy>=1.3.2 in c:\\users\\dell\\programming\\python\\stockreview.introai.20222\\venv\\lib\\site-packages (from scikit-learn->pyvi) (1.10.1)\n",
      "Requirement already satisfied: joblib>=1.1.1 in c:\\users\\dell\\programming\\python\\stockreview.introai.20222\\venv\\lib\\site-packages (from scikit-learn->pyvi) (1.2.0)\n",
      "Requirement already satisfied: threadpoolctl>=2.0.0 in c:\\users\\dell\\programming\\python\\stockreview.introai.20222\\venv\\lib\\site-packages (from scikit-learn->pyvi) (3.1.0)\n",
      "Requirement already satisfied: python-crfsuite>=0.8.3 in c:\\users\\dell\\programming\\python\\stockreview.introai.20222\\venv\\lib\\site-packages (from sklearn-crfsuite->pyvi) (0.9.9)\n",
      "Requirement already satisfied: six in c:\\users\\dell\\programming\\python\\stockreview.introai.20222\\venv\\lib\\site-packages (from sklearn-crfsuite->pyvi) (1.16.0)\n",
      "Requirement already satisfied: tabulate in c:\\users\\dell\\programming\\python\\stockreview.introai.20222\\venv\\lib\\site-packages (from sklearn-crfsuite->pyvi) (0.9.0)\n",
      "Requirement already satisfied: tqdm>=2.0 in c:\\users\\dell\\programming\\python\\stockreview.introai.20222\\venv\\lib\\site-packages (from sklearn-crfsuite->pyvi) (4.65.0)\n",
      "Requirement already satisfied: colorama in c:\\users\\dell\\programming\\python\\stockreview.introai.20222\\venv\\lib\\site-packages (from tqdm>=2.0->sklearn-crfsuite->pyvi) (0.4.6)\n"
     ]
    },
    {
     "name": "stderr",
     "output_type": "stream",
     "text": [
      "ERROR: Could not find a version that satisfies the requirement collections (from versions: none)\n",
      "ERROR: No matching distribution found for collections\n"
     ]
    },
    {
     "name": "stdout",
     "output_type": "stream",
     "text": [
      "Requirement already satisfied: nltk in c:\\users\\dell\\programming\\python\\stockreview.introai.20222\\venv\\lib\\site-packages (3.8.1)\n",
      "Requirement already satisfied: click in c:\\users\\dell\\programming\\python\\stockreview.introai.20222\\venv\\lib\\site-packages (from nltk) (8.1.3)\n",
      "Requirement already satisfied: joblib in c:\\users\\dell\\programming\\python\\stockreview.introai.20222\\venv\\lib\\site-packages (from nltk) (1.2.0)\n",
      "Requirement already satisfied: regex>=2021.8.3 in c:\\users\\dell\\programming\\python\\stockreview.introai.20222\\venv\\lib\\site-packages (from nltk) (2023.5.5)\n",
      "Requirement already satisfied: tqdm in c:\\users\\dell\\programming\\python\\stockreview.introai.20222\\venv\\lib\\site-packages (from nltk) (4.65.0)\n",
      "Requirement already satisfied: colorama in c:\\users\\dell\\programming\\python\\stockreview.introai.20222\\venv\\lib\\site-packages (from click->nltk) (0.4.6)\n"
     ]
    }
   ],
   "source": [
    "!pip install re\n",
    "!pip install string\n",
    "!pip install flask \n",
    "!pip install transformers \n",
    "!pip install torchtext\n",
    "!pip install torch\n",
    "!pip install matplotlib\n",
    "!pip install requests\n",
    "!pip install bs4 \n",
    "!pip install pyvi \n",
    "!pip install collections \n",
    "!pip install nltk"
   ]
  },
  {
   "cell_type": "markdown",
   "metadata": {},
   "source": [
    "# Setting up Github"
   ]
  },
  {
   "cell_type": "code",
   "execution_count": null,
   "metadata": {},
   "outputs": [],
   "source": [
    "!git clone https://github.com/helloitsurdvq/StockReview.IntroAI.20222.git src\n",
    "%cd src"
   ]
  },
  {
   "cell_type": "markdown",
   "metadata": {},
   "source": [
    "# Running the app\n",
    "*   Please wait until the application is ready.\n",
    "*   Click on the link.\n",
    "*   Enter the content or URL link of article and get the results.\n",
    "\n",
    "** The link that redirects to our website is: http://127.0.0.1:5000/ "
   ]
  },
  {
   "cell_type": "code",
   "execution_count": 3,
   "metadata": {},
   "outputs": [
    {
     "name": "stdout",
     "output_type": "stream",
     "text": [
      "^C\n"
     ]
    }
   ],
   "source": [
    "!python app/app.py"
   ]
  }
 ],
 "metadata": {
  "kernelspec": {
   "display_name": "venv",
   "language": "python",
   "name": "python3"
  },
  "language_info": {
   "codemirror_mode": {
    "name": "ipython",
    "version": 3
   },
   "file_extension": ".py",
   "mimetype": "text/x-python",
   "name": "python",
   "nbconvert_exporter": "python",
   "pygments_lexer": "ipython3",
   "version": "3.10.2"
  },
  "orig_nbformat": 4
 },
 "nbformat": 4,
 "nbformat_minor": 2
}
