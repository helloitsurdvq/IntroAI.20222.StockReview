{
 "cells": [
  {
   "cell_type": "code",
   "execution_count": 1,
   "metadata": {},
   "outputs": [
    {
     "name": "stdout",
     "output_type": "stream",
     "text": [
      "Fri May 19 00:17:50 2023       \n",
      "+-----------------------------------------------------------------------------+\n",
      "| NVIDIA-SMI 512.72       Driver Version: 512.72       CUDA Version: 11.6     |\n",
      "|-------------------------------+----------------------+----------------------+\n",
      "| GPU  Name            TCC/WDDM | Bus-Id        Disp.A | Volatile Uncorr. ECC |\n",
      "| Fan  Temp  Perf  Pwr:Usage/Cap|         Memory-Usage | GPU-Util  Compute M. |\n",
      "|                               |                      |               MIG M. |\n",
      "|===============================+======================+======================|\n",
      "|   0  NVIDIA GeForce ... WDDM  | 00000000:01:00.0 Off |                  N/A |\n",
      "| N/A   58C    P8     3W /  N/A |      0MiB /  4096MiB |      0%      Default |\n",
      "|                               |                      |                  N/A |\n",
      "+-------------------------------+----------------------+----------------------+\n",
      "                                                                               \n",
      "+-----------------------------------------------------------------------------+\n",
      "| Processes:                                                                  |\n",
      "|  GPU   GI   CI        PID   Type   Process name                  GPU Memory |\n",
      "|        ID   ID                                                   Usage      |\n",
      "|=============================================================================|\n",
      "|    0   N/A  N/A     13440    C+G   ...86)\\Overwolf\\Overwolf.exe    N/A      |\n",
      "+-----------------------------------------------------------------------------+\n"
     ]
    }
   ],
   "source": [
    "! nvidia-smi"
   ]
  },
  {
   "attachments": {},
   "cell_type": "markdown",
   "metadata": {},
   "source": [
    "# TFIDF + Random Forest model\n",
    "We will directly use the TFIDF and Random Forest models of the sklearn library. \n",
    "In addition, the nltk library is used to preprocess text data into standard form before it is input to vectorize through the TFIDF model."
   ]
  },
  {
   "attachments": {},
   "cell_type": "markdown",
   "metadata": {},
   "source": [
    "## 1. General Settings\n",
    "Install some necessary libraries and download processed data for model training and evaluation"
   ]
  },
  {
   "cell_type": "code",
   "execution_count": 2,
   "metadata": {},
   "outputs": [
    {
     "name": "stderr",
     "output_type": "stream",
     "text": [
      "[nltk_data] Downloading package stopwords to\n",
      "[nltk_data]     C:\\Users\\DELL\\AppData\\Roaming\\nltk_data...\n",
      "[nltk_data]   Package stopwords is already up-to-date!\n",
      "[nltk_data] Downloading package wordnet to\n",
      "[nltk_data]     C:\\Users\\DELL\\AppData\\Roaming\\nltk_data...\n",
      "[nltk_data]   Package wordnet is already up-to-date!\n",
      "[nltk_data] Downloading package omw-1.4 to\n",
      "[nltk_data]     C:\\Users\\DELL\\AppData\\Roaming\\nltk_data...\n",
      "[nltk_data]   Package omw-1.4 is already up-to-date!\n"
     ]
    }
   ],
   "source": [
    "import json\n",
    "import time\n",
    "import os\n",
    "import numpy as np\n",
    "import pandas as pd\n",
    "from sklearn.feature_extraction.text import TfidfVectorizer, TfidfTransformer, CountVectorizer\n",
    "from sklearn.model_selection import StratifiedShuffleSplit\n",
    "from sklearn.ensemble import RandomForestClassifier\n",
    "from sklearn.metrics import classification_report, confusion_matrix, ConfusionMatrixDisplay, f1_score\n",
    "from sklearn.metrics import accuracy_score\n",
    "import joblib\n",
    "import matplotlib.pyplot as plt\n",
    "import matplotlib.style\n",
    "import matplotlib as mpl\n",
    "mpl.style.use('classic')\n",
    "import re\n",
    "import string\n",
    "import seaborn as sns\n",
    "\n",
    "import nltk\n",
    "nltk.download('stopwords')\n",
    "nltk.download('wordnet')\n",
    "nltk.download('omw-1.4')\n",
    "from nltk.corpus import stopwords\n",
    "from nltk.stem import WordNetLemmatizer"
   ]
  },
  {
   "attachments": {},
   "cell_type": "markdown",
   "metadata": {},
   "source": [
    "## 2. Data Preprocessing\n",
    "To process text data, we need to go through the following steps:\n",
    "* Convert all uppercase characters to lowercase\n",
    "* Remove all characters except the characters from a-z, A-Z, 0-9, !,...\n",
    "* Remove all punctuation marks in text to empty characters\n",
    "* Remove all stop words, which are words that appear a lot but do not play an important role in meaning with the text\n",
    "* Put all words into one format (lemmatizer)"
   ]
  },
  {
   "cell_type": "code",
   "execution_count": 3,
   "metadata": {},
   "outputs": [],
   "source": [
    "def get_stopwords_list(stop_file_path):\n",
    "    \"\"\"load stop words \"\"\"\n",
    "    \n",
    "    with open(stop_file_path, 'r', encoding=\"utf-8\") as f:\n",
    "        stopwords = f.readlines()\n",
    "        stop_set = set(m.strip() for m in stopwords)\n",
    "        return list(frozenset(stop_set))"
   ]
  },
  {
   "cell_type": "code",
   "execution_count": 4,
   "metadata": {},
   "outputs": [],
   "source": [
    "stopwords_path = \"data/vietnamese_stopwords.txt\"\n",
    "sw = get_stopwords_list(stopwords_path)\n",
    "lemmatizer = WordNetLemmatizer()"
   ]
  },
  {
   "cell_type": "code",
   "execution_count": 5,
   "metadata": {},
   "outputs": [],
   "source": [
    "from pyvi import ViTokenizer\n",
    "def clean_text(text):\n",
    "    text = text.lower()\n",
    "    punctuations = '@#!?+&*[]-%.:/();$=><|{}^,_' + \"'`\"\n",
    "    for p in punctuations:\n",
    "        text = text.replace(p,'')\n",
    "    text = ViTokenizer.tokenize(text)\n",
    "    return text"
   ]
  },
  {
   "attachments": {},
   "cell_type": "markdown",
   "metadata": {},
   "source": [
    "## 3. Modelling and Evaluation"
   ]
  },
  {
   "attachments": {},
   "cell_type": "markdown",
   "metadata": {},
   "source": [
    "### 3.1. Modelling (TFIDF + Random Forest)\n",
    "Workflow: Preprocessing -> Vectorization (using TFIDF model) -> Using RF model -> Print evaluation.\n",
    "* Preprocessor: Use the preprocessor function implemented above.\n",
    "* Vectorization: Use the TFIDF model to convert texts to vectors.\n",
    "* Use the Random Forest model.\n",
    "* Evaluation: We will use sklearn's classification method to print out the f1_score, accuracy of each class. The confusion matrix will then be printed based on the predicted results and the actual results. "
   ]
  },
  {
   "cell_type": "code",
   "execution_count": 6,
   "metadata": {},
   "outputs": [],
   "source": [
    "class Model(object):\n",
    "    def __init__(self):\n",
    "        f = open('data/stock_train.json', encoding='utf-8')\n",
    "        self.data_train = json.load(f)\n",
    "        f.close()\n",
    "        f = open('data/stock_test.json', encoding='utf-8')\n",
    "        self.data_test = json.load(f)\n",
    "        f.close()\n",
    "        self.train = []\n",
    "        self.label_train = []\n",
    "        self.test = []\n",
    "        self.label_test = []\n",
    "        self.feature_names = []\n",
    "        self.predict = None\n",
    "        self.train_accuracy = None\n",
    "        self.test_accuracy = None\n",
    "        \n",
    "    def PreProcessing(self):\n",
    "        for data in self.data_train:\n",
    "            self.train.append(clean_text(data['text']))\n",
    "            self.label_train.append(data['label'])\n",
    "        for data in self.data_test:\n",
    "            self.test.append(clean_text(data['text']))\n",
    "            self.label_test.append(data['label'])\n",
    "        \n",
    "    def Vectorizer(self):\n",
    "        self.tfidf_vectorizer = TfidfVectorizer(smooth_idf=False)\n",
    "        self.tfidf_train_vectors = self.tfidf_vectorizer.fit_transform(self.train)\n",
    "        self.tfidf_test_vectors = self.tfidf_vectorizer.transform(self.test)\n",
    "        self.feature_names = self.tfidf_vectorizer.get_feature_names_out()\n",
    "        \n",
    "    def Run(self):\n",
    "        self.PreProcessing()\n",
    "        self.Vectorizer()\n",
    "        self.classifier = RandomForestClassifier(criterion='gini', max_depth=50, random_state=20, max_features='sqrt')\n",
    "        self.classifier.fit(self.tfidf_train_vectors, self.label_train)\n",
    "        self.predict = self.classifier.predict(self.tfidf_test_vectors)\n",
    "        print(classification_report(self.label_test, self.predict))\n",
    "        \n",
    "        self.test_accuracy = accuracy_score(self.label_test, self.predict)\n",
    "        \n",
    "        train_predictions = self.classifier.predict(self.tfidf_train_vectors)\n",
    "        self.train_accuracy = accuracy_score(self.label_train, train_predictions)\n",
    "        \n",
    "        print(f\"Train Accuracy: {self.train_accuracy}\")\n",
    "        print(f\"Test Accuracy: {self.test_accuracy}\")\n",
    "        \n",
    "        cm = confusion_matrix(self.label_test, self.predict)\n",
    "        _display = ConfusionMatrixDisplay(confusion_matrix=cm, display_labels=self.classifier.classes_)\n",
    "        _display.plot()\n",
    "        plt.show()\n",
    "        \n",
    "        joblib.dump(self.classifier, 'output/trained_tfidf_rf/rf_tfidfModel.pkl')"
   ]
  },
  {
   "attachments": {},
   "cell_type": "markdown",
   "metadata": {},
   "source": [
    "### 3.2. Evaluation"
   ]
  },
  {
   "cell_type": "code",
   "execution_count": 7,
   "metadata": {},
   "outputs": [
    {
     "name": "stdout",
     "output_type": "stream",
     "text": [
      "              precision    recall  f1-score   support\n",
      "\n",
      "    negative       0.77      0.69      0.73       323\n",
      "     neutral       0.59      0.69      0.64       321\n",
      "    positive       0.73      0.68      0.70       358\n",
      "\n",
      "    accuracy                           0.69      1002\n",
      "   macro avg       0.70      0.69      0.69      1002\n",
      "weighted avg       0.70      0.69      0.69      1002\n",
      "\n",
      "Train Accuracy: 0.996042216358839\n",
      "Test Accuracy: 0.687624750499002\n"
     ]
    },
    {
     "data": {
      "image/png": "[encoded data removed]",
      "text/plain": [
       "<Figure size 640x480 with 2 Axes>"
      ]
     },
     "metadata": {},
     "output_type": "display_data"
    }
   ],
   "source": [
    "t = Model()\n",
    "t.Run()"
   ]
  }
 ],
 "metadata": {
  "kernelspec": {
   "display_name": "venv",
   "language": "python",
   "name": "python3"
  },
  "language_info": {
   "codemirror_mode": {
    "name": "ipython",
    "version": 3
   },
   "file_extension": ".py",
   "mimetype": "text/x-python",
   "name": "python",
   "nbconvert_exporter": "python",
   "pygments_lexer": "ipython3",
   "version": "3.10.2"
  },
  "orig_nbformat": 4
 },
 "nbformat": 4,
 "nbformat_minor": 2
}
