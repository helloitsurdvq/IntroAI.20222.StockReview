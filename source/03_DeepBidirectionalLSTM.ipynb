{
 "cells": [
  {
   "attachments": {},
   "cell_type": "markdown",
   "metadata": {},
   "source": [
    "# Deep Bidirectional Long Short Term Memory"
   ]
  },
  {
   "cell_type": "code",
   "execution_count": 1,
   "metadata": {},
   "outputs": [
    {
     "name": "stdout",
     "output_type": "stream",
     "text": [
      "Sat May 20 00:01:37 2023       \n",
      "+-----------------------------------------------------------------------------+\n",
      "| NVIDIA-SMI 512.72       Driver Version: 512.72       CUDA Version: 11.6     |\n",
      "|-------------------------------+----------------------+----------------------+\n",
      "| GPU  Name            TCC/WDDM | Bus-Id        Disp.A | Volatile Uncorr. ECC |\n",
      "| Fan  Temp  Perf  Pwr:Usage/Cap|         Memory-Usage | GPU-Util  Compute M. |\n",
      "|                               |                      |               MIG M. |\n",
      "|===============================+======================+======================|\n",
      "|   0  NVIDIA GeForce ... WDDM  | 00000000:01:00.0 Off |                  N/A |\n",
      "| N/A   61C    P8     3W /  N/A |      1MiB /  4096MiB |      0%      Default |\n",
      "|                               |                      |                  N/A |\n",
      "+-------------------------------+----------------------+----------------------+\n",
      "                                                                               \n",
      "+-----------------------------------------------------------------------------+\n",
      "| Processes:                                                                  |\n",
      "|  GPU   GI   CI        PID   Type   Process name                  GPU Memory |\n",
      "|        ID   ID                                                   Usage      |\n",
      "|=============================================================================|\n",
      "|    0   N/A  N/A     14704    C+G   ...86)\\Overwolf\\Overwolf.exe    N/A      |\n",
      "+-----------------------------------------------------------------------------+\n"
     ]
    }
   ],
   "source": [
    "! nvidia-smi"
   ]
  },
  {
   "attachments": {},
   "cell_type": "markdown",
   "metadata": {},
   "source": [
    "## Setup"
   ]
  },
  {
   "cell_type": "code",
   "execution_count": 2,
   "metadata": {},
   "outputs": [],
   "source": [
    "import os\n",
    "\n",
    "import numpy as np\n",
    "import pandas as pd\n",
    "\n",
    "import sklearn\n",
    "import sklearn.metrics\n",
    "import sklearn.preprocessing\n",
    "\n",
    "import tensorflow as tf\n",
    "from tensorflow import keras\n",
    "from keras import Sequential\n",
    "from keras import layers"
   ]
  },
  {
   "cell_type": "code",
   "execution_count": 3,
   "metadata": {},
   "outputs": [],
   "source": [
    "# Seed to reproduce results\n",
    "np.random.seed(0)\n",
    "tf.random.set_seed(0)"
   ]
  },
  {
   "cell_type": "code",
   "execution_count": 4,
   "metadata": {},
   "outputs": [],
   "source": [
    "train_df = pd.read_json('data/stock_train.json')\n",
    "test_df = pd.read_json('data/stock_test.json')"
   ]
  },
  {
   "cell_type": "code",
   "execution_count": 5,
   "metadata": {},
   "outputs": [
    {
     "data": {
      "text/html": [
       "<div>\n",
       "<style scoped>\n",
       "    .dataframe tbody tr th:only-of-type {\n",
       "        vertical-align: middle;\n",
       "    }\n",
       "\n",
       "    .dataframe tbody tr th {\n",
       "        vertical-align: top;\n",
       "    }\n",
       "\n",
       "    .dataframe thead th {\n",
       "        text-align: right;\n",
       "    }\n",
       "</style>\n",
       "<table border=\"1\" class=\"dataframe\">\n",
       "  <thead>\n",
       "    <tr style=\"text-align: right;\">\n",
       "      <th></th>\n",
       "      <th>text</th>\n",
       "      <th>label</th>\n",
       "      <th>label_id</th>\n",
       "    </tr>\n",
       "  </thead>\n",
       "  <tbody>\n",
       "    <tr>\n",
       "      <th>0</th>\n",
       "      <td>Tại thị trường trong nước, khảo sát lúc 9 giờ ...</td>\n",
       "      <td>positive</td>\n",
       "      <td>0</td>\n",
       "    </tr>\n",
       "    <tr>\n",
       "      <th>1</th>\n",
       "      <td>tăng 50.000 đồng/lượng ở cả hai chiều mua và b...</td>\n",
       "      <td>positive</td>\n",
       "      <td>0</td>\n",
       "    </tr>\n",
       "    <tr>\n",
       "      <th>2</th>\n",
       "      <td>Tại 2 thị trường lớn khác là Hà Nội và Đà Nẵng...</td>\n",
       "      <td>positive</td>\n",
       "      <td>0</td>\n",
       "    </tr>\n",
       "    <tr>\n",
       "      <th>3</th>\n",
       "      <td>Vàng lại bật tăng vượt ngưỡng 2.000 USD/ounce</td>\n",
       "      <td>positive</td>\n",
       "      <td>0</td>\n",
       "    </tr>\n",
       "    <tr>\n",
       "      <th>4</th>\n",
       "      <td>tăng 24 USD/ounce so với cùng giờ sáng qua</td>\n",
       "      <td>positive</td>\n",
       "      <td>0</td>\n",
       "    </tr>\n",
       "    <tr>\n",
       "      <th>...</th>\n",
       "      <td>...</td>\n",
       "      <td>...</td>\n",
       "      <td>...</td>\n",
       "    </tr>\n",
       "    <tr>\n",
       "      <th>1511</th>\n",
       "      <td>Danh mục đầu tư 60/40 là mô hình phân chia tài...</td>\n",
       "      <td>neutral</td>\n",
       "      <td>2</td>\n",
       "    </tr>\n",
       "    <tr>\n",
       "      <th>1512</th>\n",
       "      <td>Theo tính toán của Vanguard, lợi nhuận hàng nă...</td>\n",
       "      <td>neutral</td>\n",
       "      <td>2</td>\n",
       "    </tr>\n",
       "    <tr>\n",
       "      <th>1513</th>\n",
       "      <td>Nhóm chuyên gia JP Morgan xem xét 200 loại tài...</td>\n",
       "      <td>neutral</td>\n",
       "      <td>2</td>\n",
       "    </tr>\n",
       "    <tr>\n",
       "      <th>1514</th>\n",
       "      <td>Kết luận đưa ra là các nguyên tắc cốt lõi của ...</td>\n",
       "      <td>neutral</td>\n",
       "      <td>2</td>\n",
       "    </tr>\n",
       "    <tr>\n",
       "      <th>1515</th>\n",
       "      <td>Danh mục đầu tư 60/40, như tên gọi của nó, yêu...</td>\n",
       "      <td>neutral</td>\n",
       "      <td>2</td>\n",
       "    </tr>\n",
       "  </tbody>\n",
       "</table>\n",
       "<p>1516 rows × 3 columns</p>\n",
       "</div>"
      ],
      "text/plain": [
       "                                                   text     label  label_id\n",
       "0     Tại thị trường trong nước, khảo sát lúc 9 giờ ...  positive         0\n",
       "1     tăng 50.000 đồng/lượng ở cả hai chiều mua và b...  positive         0\n",
       "2     Tại 2 thị trường lớn khác là Hà Nội và Đà Nẵng...  positive         0\n",
       "3         Vàng lại bật tăng vượt ngưỡng 2.000 USD/ounce  positive         0\n",
       "4            tăng 24 USD/ounce so với cùng giờ sáng qua  positive         0\n",
       "...                                                 ...       ...       ...\n",
       "1511  Danh mục đầu tư 60/40 là mô hình phân chia tài...   neutral         2\n",
       "1512  Theo tính toán của Vanguard, lợi nhuận hàng nă...   neutral         2\n",
       "1513  Nhóm chuyên gia JP Morgan xem xét 200 loại tài...   neutral         2\n",
       "1514  Kết luận đưa ra là các nguyên tắc cốt lõi của ...   neutral         2\n",
       "1515  Danh mục đầu tư 60/40, như tên gọi của nó, yêu...   neutral         2\n",
       "\n",
       "[1516 rows x 3 columns]"
      ]
     },
     "execution_count": 5,
     "metadata": {},
     "output_type": "execute_result"
    }
   ],
   "source": [
    "train_df"
   ]
  },
  {
   "cell_type": "code",
   "execution_count": 6,
   "metadata": {},
   "outputs": [
    {
     "data": {
      "text/html": [
       "<div>\n",
       "<style scoped>\n",
       "    .dataframe tbody tr th:only-of-type {\n",
       "        vertical-align: middle;\n",
       "    }\n",
       "\n",
       "    .dataframe tbody tr th {\n",
       "        vertical-align: top;\n",
       "    }\n",
       "\n",
       "    .dataframe thead th {\n",
       "        text-align: right;\n",
       "    }\n",
       "</style>\n",
       "<table border=\"1\" class=\"dataframe\">\n",
       "  <thead>\n",
       "    <tr style=\"text-align: right;\">\n",
       "      <th></th>\n",
       "      <th>text</th>\n",
       "      <th>label</th>\n",
       "      <th>label_id</th>\n",
       "    </tr>\n",
       "  </thead>\n",
       "  <tbody>\n",
       "    <tr>\n",
       "      <th>0</th>\n",
       "      <td>Tại 2 thị trường lớn khác là Hà Nội và Đà Nẵng...</td>\n",
       "      <td>positive</td>\n",
       "      <td>0</td>\n",
       "    </tr>\n",
       "    <tr>\n",
       "      <th>1</th>\n",
       "      <td>Như vậy, trong 2 ngày qua, giá vàng nhẫn đã tă...</td>\n",
       "      <td>positive</td>\n",
       "      <td>0</td>\n",
       "    </tr>\n",
       "    <tr>\n",
       "      <th>2</th>\n",
       "      <td>Giá vàng thế giới bật tăng trở lại, khi lực cầ...</td>\n",
       "      <td>positive</td>\n",
       "      <td>0</td>\n",
       "    </tr>\n",
       "    <tr>\n",
       "      <th>3</th>\n",
       "      <td>Tại thị trường thế giới, thời điểm lúc 9 giờ 3...</td>\n",
       "      <td>positive</td>\n",
       "      <td>0</td>\n",
       "    </tr>\n",
       "    <tr>\n",
       "      <th>4</th>\n",
       "      <td>Tuy nhiên, sau đó lực cầu bắt đáy mạnh đã giúp...</td>\n",
       "      <td>positive</td>\n",
       "      <td>0</td>\n",
       "    </tr>\n",
       "    <tr>\n",
       "      <th>...</th>\n",
       "      <td>...</td>\n",
       "      <td>...</td>\n",
       "      <td>...</td>\n",
       "    </tr>\n",
       "    <tr>\n",
       "      <th>997</th>\n",
       "      <td>Ngoài 47 triệu cổ phiếu khớp lệnh, HAG còn ghi...</td>\n",
       "      <td>neutral</td>\n",
       "      <td>2</td>\n",
       "    </tr>\n",
       "    <tr>\n",
       "      <th>998</th>\n",
       "      <td>báo cáo giải trình của SHS cho biết</td>\n",
       "      <td>neutral</td>\n",
       "      <td>2</td>\n",
       "    </tr>\n",
       "    <tr>\n",
       "      <th>999</th>\n",
       "      <td>Cuối quý I, SHS nắm giữ 2.240 tỷ đồng cổ phiếu...</td>\n",
       "      <td>neutral</td>\n",
       "      <td>2</td>\n",
       "    </tr>\n",
       "    <tr>\n",
       "      <th>1000</th>\n",
       "      <td>SHS còn nắm giữ hơn 420 tỷ đồng TCB với giá tr...</td>\n",
       "      <td>neutral</td>\n",
       "      <td>2</td>\n",
       "    </tr>\n",
       "    <tr>\n",
       "      <th>1001</th>\n",
       "      <td>Chứng khoán BOS thay dàn lãnh đạo mới</td>\n",
       "      <td>neutral</td>\n",
       "      <td>2</td>\n",
       "    </tr>\n",
       "  </tbody>\n",
       "</table>\n",
       "<p>1002 rows × 3 columns</p>\n",
       "</div>"
      ],
      "text/plain": [
       "                                                   text     label  label_id\n",
       "0     Tại 2 thị trường lớn khác là Hà Nội và Đà Nẵng...  positive         0\n",
       "1     Như vậy, trong 2 ngày qua, giá vàng nhẫn đã tă...  positive         0\n",
       "2     Giá vàng thế giới bật tăng trở lại, khi lực cầ...  positive         0\n",
       "3     Tại thị trường thế giới, thời điểm lúc 9 giờ 3...  positive         0\n",
       "4     Tuy nhiên, sau đó lực cầu bắt đáy mạnh đã giúp...  positive         0\n",
       "...                                                 ...       ...       ...\n",
       "997   Ngoài 47 triệu cổ phiếu khớp lệnh, HAG còn ghi...   neutral         2\n",
       "998                 báo cáo giải trình của SHS cho biết   neutral         2\n",
       "999   Cuối quý I, SHS nắm giữ 2.240 tỷ đồng cổ phiếu...   neutral         2\n",
       "1000  SHS còn nắm giữ hơn 420 tỷ đồng TCB với giá tr...   neutral         2\n",
       "1001              Chứng khoán BOS thay dàn lãnh đạo mới   neutral         2\n",
       "\n",
       "[1002 rows x 3 columns]"
      ]
     },
     "execution_count": 6,
     "metadata": {},
     "output_type": "execute_result"
    }
   ],
   "source": [
    "test_df"
   ]
  },
  {
   "cell_type": "code",
   "execution_count": 7,
   "metadata": {},
   "outputs": [
    {
     "name": "stderr",
     "output_type": "stream",
     "text": [
      "c:\\Users\\DELL\\Programming\\python\\StockReview.IntroAI.20222\\venv\\lib\\site-packages\\sklearn\\preprocessing\\_encoders.py:868: FutureWarning: `sparse` was renamed to `sparse_output` in version 1.2 and will be removed in 1.4. `sparse_output` is ignored unless you leave `sparse` to its default value.\n",
      "  warnings.warn(\n"
     ]
    }
   ],
   "source": [
    "# Label One-Hot-Encoding\n",
    "label_encoded = sklearn.preprocessing.OneHotEncoder(sparse=False).fit_transform(pd.DataFrame([*list(train_df.label_id), *list(test_df.label_id)]))"
   ]
  },
  {
   "cell_type": "code",
   "execution_count": 8,
   "metadata": {},
   "outputs": [],
   "source": [
    "# Create TensorFlow Dataset\n",
    "train_dataset = tf.data.Dataset.from_tensor_slices((train_df.text, label_encoded[:len(train_df)]))\n",
    "test_dataset = tf.data.Dataset.from_tensor_slices((test_df.text, label_encoded[len(train_df):]))\n",
    "\n",
    "# Batches\n",
    "BUFFER_SIZE = 10000\n",
    "BATCH_SIZE = 128\n",
    "\n",
    "train_dataset = train_dataset.shuffle(BUFFER_SIZE).batch(BATCH_SIZE).prefetch(tf.data.AUTOTUNE)\n",
    "test_dataset = test_dataset.batch(BATCH_SIZE).prefetch(tf.data.AUTOTUNE)"
   ]
  },
  {
   "attachments": {},
   "cell_type": "markdown",
   "metadata": {},
   "source": [
    "## Encoder"
   ]
  },
  {
   "cell_type": "code",
   "execution_count": 9,
   "metadata": {},
   "outputs": [
    {
     "name": "stdout",
     "output_type": "stream",
     "text": [
      "Vocab_size: 2279\n"
     ]
    },
    {
     "data": {
      "text/plain": [
       "['', '[UNK]', 'và', 'trong', 'tăng', 'với', 'cổ', 'của', 'có', 'đầu']"
      ]
     },
     "execution_count": 9,
     "metadata": {},
     "output_type": "execute_result"
    }
   ],
   "source": [
    "# Encoder Vocab Size\n",
    "VOCAB_SIZE = 10000\n",
    "\n",
    "# Encoder\n",
    "encoder = layers.TextVectorization(VOCAB_SIZE)\n",
    "\n",
    "# Adapt TextVectorization for Train text to sets the layer's vocabulary\n",
    "encoder.adapt(train_dataset.map(lambda text, label: text))\n",
    "\n",
    "# Vocab\n",
    "print(f\"Vocab_size: {len(encoder.get_vocabulary())}\")\n",
    "encoder.get_vocabulary()[:10]"
   ]
  },
  {
   "cell_type": "code",
   "execution_count": 10,
   "metadata": {},
   "outputs": [
    {
     "name": "stdout",
     "output_type": "stream",
     "text": [
      "Model: \"sequential\"\n",
      "_________________________________________________________________\n",
      " Layer (type)                Output Shape              Param #   \n",
      "=================================================================\n",
      " text_vectorization (TextVec  (None, None)             0         \n",
      " torization)                                                     \n",
      "                                                                 \n",
      " embedding (Embedding)       (None, None, 128)         291712    \n",
      "                                                                 \n",
      " bidirectional (Bidirectiona  (None, None, 128)        98816     \n",
      " l)                                                              \n",
      "                                                                 \n",
      " dropout (Dropout)           (None, None, 128)         0         \n",
      "                                                                 \n",
      " bidirectional_1 (Bidirectio  (None, 64)               41216     \n",
      " nal)                                                            \n",
      "                                                                 \n",
      " dropout_1 (Dropout)         (None, 64)                0         \n",
      "                                                                 \n",
      " dense (Dense)               (None, 32)                2080      \n",
      "                                                                 \n",
      " dense_1 (Dense)             (None, 3)                 99        \n",
      "                                                                 \n",
      "=================================================================\n",
      "Total params: 433,923\n",
      "Trainable params: 433,923\n",
      "Non-trainable params: 0\n",
      "_________________________________________________________________\n"
     ]
    }
   ],
   "source": [
    "model = Sequential([\n",
    "    encoder,\n",
    "    layers.Embedding(\n",
    "        input_dim=len(encoder.get_vocabulary()),\n",
    "        output_dim=128,\n",
    "        mask_zero=True\n",
    "        ),\n",
    "    layers.Bidirectional(layers.LSTM(64, return_sequences = True)),\n",
    "    layers.Dropout(0.3),\n",
    "    layers.Bidirectional(layers.LSTM(32)),\n",
    "    layers.Dropout(0.3),\n",
    "    layers.Dense(32, activation = \"relu\"),\n",
    "    layers.Dense(3, activation = \"sigmoid\")])\n",
    "model.summary()"
   ]
  },
  {
   "cell_type": "code",
   "execution_count": 13,
   "metadata": {},
   "outputs": [
    {
     "name": "stdout",
     "output_type": "stream",
     "text": [
      "Epoch 1/50\n",
      "12/12 [==============================] - 22s 692ms/step - loss: 0.0094 - acc: 0.9960 - val_loss: 1.9075 - val_acc: 0.5948\n",
      "Epoch 2/50\n",
      "12/12 [==============================] - 3s 214ms/step - loss: 0.0101 - acc: 0.9947 - val_loss: 1.8979 - val_acc: 0.6218\n",
      "Epoch 3/50\n",
      "12/12 [==============================] - 2s 206ms/step - loss: 0.0194 - acc: 0.9908 - val_loss: 1.6155 - val_acc: 0.6198\n",
      "Epoch 4/50\n",
      "12/12 [==============================] - 2s 195ms/step - loss: 0.0197 - acc: 0.9921 - val_loss: 1.5926 - val_acc: 0.6128\n",
      "Epoch 5/50\n",
      "12/12 [==============================] - 2s 212ms/step - loss: 0.0128 - acc: 0.9934 - val_loss: 1.4247 - val_acc: 0.6198\n",
      "Epoch 6/50\n",
      "12/12 [==============================] - 2s 206ms/step - loss: 0.0101 - acc: 0.9954 - val_loss: 1.5437 - val_acc: 0.5958\n",
      "Epoch 7/50\n",
      "12/12 [==============================] - 2s 202ms/step - loss: 0.0116 - acc: 0.9954 - val_loss: 1.5023 - val_acc: 0.6188\n",
      "Epoch 8/50\n",
      "12/12 [==============================] - 2s 207ms/step - loss: 0.0061 - acc: 0.9967 - val_loss: 1.5255 - val_acc: 0.6238\n",
      "Epoch 9/50\n",
      "12/12 [==============================] - 2s 205ms/step - loss: 0.0063 - acc: 0.9947 - val_loss: 1.5565 - val_acc: 0.6447\n",
      "Epoch 10/50\n",
      "12/12 [==============================] - 2s 197ms/step - loss: 0.0037 - acc: 0.9967 - val_loss: 1.6572 - val_acc: 0.6267\n",
      "Epoch 11/50\n",
      "12/12 [==============================] - 2s 204ms/step - loss: 0.0024 - acc: 0.9987 - val_loss: 1.7512 - val_acc: 0.6248\n",
      "Epoch 12/50\n",
      "12/12 [==============================] - 2s 189ms/step - loss: 0.0020 - acc: 0.9980 - val_loss: 1.7931 - val_acc: 0.6337\n",
      "Epoch 13/50\n",
      "12/12 [==============================] - 2s 204ms/step - loss: 0.0023 - acc: 0.9980 - val_loss: 1.8194 - val_acc: 0.6377\n",
      "Epoch 14/50\n",
      "12/12 [==============================] - 2s 208ms/step - loss: 0.0032 - acc: 0.9967 - val_loss: 1.8432 - val_acc: 0.6377\n",
      "Epoch 15/50\n",
      "12/12 [==============================] - 2s 185ms/step - loss: 0.0023 - acc: 0.9987 - val_loss: 1.8717 - val_acc: 0.6377\n",
      "Epoch 16/50\n",
      "12/12 [==============================] - 2s 199ms/step - loss: 0.0026 - acc: 0.9974 - val_loss: 1.8796 - val_acc: 0.6357\n",
      "Epoch 17/50\n",
      "12/12 [==============================] - 2s 202ms/step - loss: 0.0022 - acc: 0.9980 - val_loss: 1.8852 - val_acc: 0.6367\n",
      "Epoch 18/50\n",
      "12/12 [==============================] - 2s 205ms/step - loss: 0.0021 - acc: 0.9980 - val_loss: 1.8926 - val_acc: 0.6327\n",
      "Epoch 19/50\n",
      "12/12 [==============================] - 2s 199ms/step - loss: 0.0023 - acc: 0.9974 - val_loss: 1.8977 - val_acc: 0.6337\n",
      "Epoch 20/50\n",
      "12/12 [==============================] - 2s 201ms/step - loss: 0.0017 - acc: 0.9993 - val_loss: 1.9104 - val_acc: 0.6367\n",
      "Epoch 21/50\n",
      "12/12 [==============================] - 2s 205ms/step - loss: 0.0015 - acc: 0.9993 - val_loss: 1.9486 - val_acc: 0.6357\n",
      "Epoch 22/50\n",
      "12/12 [==============================] - 2s 193ms/step - loss: 0.0026 - acc: 0.9980 - val_loss: 1.9807 - val_acc: 0.6347\n",
      "Epoch 23/50\n",
      "12/12 [==============================] - 2s 197ms/step - loss: 0.0025 - acc: 0.9967 - val_loss: 1.9366 - val_acc: 0.6367\n",
      "Epoch 24/50\n",
      "12/12 [==============================] - 2s 190ms/step - loss: 0.0018 - acc: 0.9980 - val_loss: 1.9456 - val_acc: 0.6357\n",
      "Epoch 25/50\n",
      "12/12 [==============================] - 2s 207ms/step - loss: 0.0019 - acc: 0.9980 - val_loss: 1.9676 - val_acc: 0.6347\n",
      "Epoch 26/50\n",
      "12/12 [==============================] - 2s 198ms/step - loss: 0.0028 - acc: 0.9974 - val_loss: 1.9957 - val_acc: 0.6327\n",
      "Epoch 27/50\n",
      "12/12 [==============================] - 2s 208ms/step - loss: 0.0024 - acc: 0.9980 - val_loss: 2.0066 - val_acc: 0.6317\n",
      "Epoch 28/50\n",
      "12/12 [==============================] - 2s 197ms/step - loss: 0.0022 - acc: 0.9967 - val_loss: 2.0097 - val_acc: 0.6327\n",
      "Epoch 29/50\n",
      "12/12 [==============================] - 2s 212ms/step - loss: 0.0021 - acc: 0.9980 - val_loss: 1.9955 - val_acc: 0.6357\n",
      "Epoch 30/50\n",
      "12/12 [==============================] - 2s 195ms/step - loss: 0.0022 - acc: 0.9980 - val_loss: 1.9969 - val_acc: 0.6377\n",
      "Epoch 31/50\n",
      "12/12 [==============================] - 2s 203ms/step - loss: 0.0021 - acc: 0.9967 - val_loss: 2.0006 - val_acc: 0.6397\n",
      "Epoch 32/50\n",
      "12/12 [==============================] - 2s 203ms/step - loss: 0.0019 - acc: 0.9993 - val_loss: 2.0237 - val_acc: 0.6387\n",
      "Epoch 33/50\n",
      "12/12 [==============================] - 2s 197ms/step - loss: 0.0021 - acc: 0.9974 - val_loss: 2.0395 - val_acc: 0.6367\n",
      "Epoch 34/50\n",
      "12/12 [==============================] - 2s 204ms/step - loss: 0.0021 - acc: 0.9974 - val_loss: 2.0635 - val_acc: 0.6367\n",
      "Epoch 35/50\n",
      "12/12 [==============================] - 2s 188ms/step - loss: 0.0022 - acc: 0.9980 - val_loss: 2.0547 - val_acc: 0.6377\n",
      "Epoch 36/50\n",
      "12/12 [==============================] - 2s 199ms/step - loss: 0.0019 - acc: 0.9974 - val_loss: 2.0588 - val_acc: 0.6347\n",
      "Epoch 37/50\n",
      "12/12 [==============================] - 2s 196ms/step - loss: 0.0022 - acc: 0.9967 - val_loss: 2.0624 - val_acc: 0.6357\n",
      "Epoch 38/50\n",
      "12/12 [==============================] - 2s 209ms/step - loss: 0.0021 - acc: 0.9974 - val_loss: 2.0648 - val_acc: 0.6377\n",
      "Epoch 39/50\n",
      "12/12 [==============================] - 2s 204ms/step - loss: 0.0018 - acc: 0.9980 - val_loss: 2.0819 - val_acc: 0.6337\n",
      "Epoch 40/50\n",
      "12/12 [==============================] - 2s 202ms/step - loss: 0.0022 - acc: 0.9967 - val_loss: 2.0866 - val_acc: 0.6317\n",
      "Epoch 41/50\n",
      "12/12 [==============================] - 2s 203ms/step - loss: 0.0024 - acc: 0.9967 - val_loss: 2.0800 - val_acc: 0.6337\n",
      "Epoch 42/50\n",
      "12/12 [==============================] - 3s 234ms/step - loss: 0.0019 - acc: 0.9974 - val_loss: 2.0769 - val_acc: 0.6357\n",
      "Epoch 43/50\n",
      "12/12 [==============================] - 3s 219ms/step - loss: 0.0021 - acc: 0.9980 - val_loss: 2.0888 - val_acc: 0.6347\n",
      "Epoch 44/50\n",
      "12/12 [==============================] - 2s 194ms/step - loss: 0.0017 - acc: 0.9987 - val_loss: 2.1042 - val_acc: 0.6357\n",
      "Epoch 45/50\n",
      "12/12 [==============================] - 3s 210ms/step - loss: 0.0020 - acc: 0.9993 - val_loss: 2.1208 - val_acc: 0.6377\n",
      "Epoch 46/50\n",
      "12/12 [==============================] - 2s 208ms/step - loss: 0.0019 - acc: 0.9974 - val_loss: 2.1322 - val_acc: 0.6357\n",
      "Epoch 47/50\n",
      "12/12 [==============================] - 3s 231ms/step - loss: 0.0019 - acc: 0.9987 - val_loss: 2.1316 - val_acc: 0.6377\n",
      "Epoch 48/50\n",
      "12/12 [==============================] - 2s 201ms/step - loss: 0.0017 - acc: 0.9980 - val_loss: 2.1483 - val_acc: 0.6367\n",
      "Epoch 49/50\n",
      "12/12 [==============================] - 2s 211ms/step - loss: 0.0018 - acc: 0.9987 - val_loss: 2.1825 - val_acc: 0.6357\n",
      "Epoch 50/50\n",
      "12/12 [==============================] - 2s 194ms/step - loss: 0.0092 - acc: 0.9967 - val_loss: 1.7526 - val_acc: 0.6337\n"
     ]
    }
   ],
   "source": [
    "# Compile\n",
    "model.compile(\n",
    "    loss = tf.keras.losses.BinaryCrossentropy(),\n",
    "    optimizer = tf.keras.optimizers.Adam(5 * 1e-3),\n",
    "    metrics = 'acc'\n",
    ")\n",
    "\n",
    "# Train \n",
    "history_training = model.fit(\n",
    "    train_dataset, \n",
    "    epochs = 50,\n",
    "    validation_data = test_dataset\n",
    ")"
   ]
  },
  {
   "cell_type": "code",
   "execution_count": 14,
   "metadata": {},
   "outputs": [
    {
     "data": {
      "text/plain": [
       "(0.0, 1.0)"
      ]
     },
     "execution_count": 14,
     "metadata": {},
     "output_type": "execute_result"
    },
    {
     "data": {
      "image/png": "[encoded data removed]",
      "text/plain": [
       "<Figure size 1200x400 with 1 Axes>"
      ]
     },
     "metadata": {},
     "output_type": "display_data"
    }
   ],
   "source": [
    "# Visualization\n",
    "import matplotlib.pyplot as plt\n",
    "import matplotlib.style\n",
    "import matplotlib as mpl\n",
    "mpl.style.use('classic')\n",
    "pd.DataFrame(history_training.history).plot(figsize = (15,5))\n",
    "plt.grid(True)\n",
    "plt.gca().set_ylim(0,1)"
   ]
  },
  {
   "cell_type": "code",
   "execution_count": 15,
   "metadata": {},
   "outputs": [
    {
     "name": "stdout",
     "output_type": "stream",
     "text": [
      "12/12 [==============================] - 1s 64ms/step - loss: 0.0032 - acc: 0.9974\n",
      "8/8 [==============================] - 1s 76ms/step - loss: 1.7526 - acc: 0.6337\n",
      "32/32 [==============================] - 5s 17ms/step\n"
     ]
    },
    {
     "data": {
      "text/html": [
       "<div>\n",
       "<style scoped>\n",
       "    .dataframe tbody tr th:only-of-type {\n",
       "        vertical-align: middle;\n",
       "    }\n",
       "\n",
       "    .dataframe tbody tr th {\n",
       "        vertical-align: top;\n",
       "    }\n",
       "\n",
       "    .dataframe thead th {\n",
       "        text-align: right;\n",
       "    }\n",
       "</style>\n",
       "<table border=\"1\" class=\"dataframe\">\n",
       "  <thead>\n",
       "    <tr style=\"text-align: right;\">\n",
       "      <th></th>\n",
       "      <th>precision</th>\n",
       "      <th>recall</th>\n",
       "      <th>f1-score</th>\n",
       "      <th>support</th>\n",
       "    </tr>\n",
       "  </thead>\n",
       "  <tbody>\n",
       "    <tr>\n",
       "      <th>0</th>\n",
       "      <td>0.654545</td>\n",
       "      <td>0.703911</td>\n",
       "      <td>0.678331</td>\n",
       "      <td>358.000000</td>\n",
       "    </tr>\n",
       "    <tr>\n",
       "      <th>1</th>\n",
       "      <td>0.686084</td>\n",
       "      <td>0.656347</td>\n",
       "      <td>0.670886</td>\n",
       "      <td>323.000000</td>\n",
       "    </tr>\n",
       "    <tr>\n",
       "      <th>2</th>\n",
       "      <td>0.555195</td>\n",
       "      <td>0.532710</td>\n",
       "      <td>0.543720</td>\n",
       "      <td>321.000000</td>\n",
       "    </tr>\n",
       "    <tr>\n",
       "      <th>accuracy</th>\n",
       "      <td>0.633733</td>\n",
       "      <td>0.633733</td>\n",
       "      <td>0.633733</td>\n",
       "      <td>0.633733</td>\n",
       "    </tr>\n",
       "    <tr>\n",
       "      <th>macro avg</th>\n",
       "      <td>0.631941</td>\n",
       "      <td>0.630989</td>\n",
       "      <td>0.630979</td>\n",
       "      <td>1002.000000</td>\n",
       "    </tr>\n",
       "    <tr>\n",
       "      <th>weighted avg</th>\n",
       "      <td>0.632884</td>\n",
       "      <td>0.633733</td>\n",
       "      <td>0.632807</td>\n",
       "      <td>1002.000000</td>\n",
       "    </tr>\n",
       "  </tbody>\n",
       "</table>\n",
       "</div>"
      ],
      "text/plain": [
       "              precision    recall  f1-score      support\n",
       "0              0.654545  0.703911  0.678331   358.000000\n",
       "1              0.686084  0.656347  0.670886   323.000000\n",
       "2              0.555195  0.532710  0.543720   321.000000\n",
       "accuracy       0.633733  0.633733  0.633733     0.633733\n",
       "macro avg      0.631941  0.630989  0.630979  1002.000000\n",
       "weighted avg   0.632884  0.633733  0.632807  1002.000000"
      ]
     },
     "execution_count": 15,
     "metadata": {},
     "output_type": "execute_result"
    }
   ],
   "source": [
    "# Evaluation\n",
    "train_loss, train_acc = model.evaluate(train_dataset)\n",
    "test_loss, test_acc = model.evaluate(test_dataset)\n",
    "\n",
    "# Prediction\n",
    "preds = model.predict(test_df.text)\n",
    "preds = tf.math.argmax(preds, -1)\n",
    "\n",
    "# Report\n",
    "report = sklearn.metrics.classification_report(test_df.label_id, preds, output_dict=True)\n",
    "df_report = pd.DataFrame(report).transpose()\n",
    "df_report"
   ]
  }
 ],
 "metadata": {
  "kernelspec": {
   "display_name": "venv",
   "language": "python",
   "name": "python3"
  },
  "language_info": {
   "codemirror_mode": {
    "name": "ipython",
    "version": 3
   },
   "file_extension": ".py",
   "mimetype": "text/x-python",
   "name": "python",
   "nbconvert_exporter": "python",
   "pygments_lexer": "ipython3",
   "version": "3.10.2"
  },
  "orig_nbformat": 4
 },
 "nbformat": 4,
 "nbformat_minor": 2
}
