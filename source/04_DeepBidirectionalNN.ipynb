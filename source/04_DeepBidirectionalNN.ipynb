{
 "cells": [
  {
   "attachments": {},
   "cell_type": "markdown",
   "metadata": {},
   "source": [
    "# Deep Bidirectional Neural Network (GRU)"
   ]
  },
  {
   "cell_type": "code",
   "execution_count": 1,
   "metadata": {},
   "outputs": [
    {
     "name": "stdout",
     "output_type": "stream",
     "text": [
      "Sat May 20 22:04:38 2023       \n",
      "+-----------------------------------------------------------------------------+\n",
      "| NVIDIA-SMI 512.72       Driver Version: 512.72       CUDA Version: 11.6     |\n",
      "|-------------------------------+----------------------+----------------------+\n",
      "| GPU  Name            TCC/WDDM | Bus-Id        Disp.A | Volatile Uncorr. ECC |\n",
      "| Fan  Temp  Perf  Pwr:Usage/Cap|         Memory-Usage | GPU-Util  Compute M. |\n",
      "|                               |                      |               MIG M. |\n",
      "|===============================+======================+======================|\n",
      "|   0  NVIDIA GeForce ... WDDM  | 00000000:01:00.0 Off |                  N/A |\n",
      "| N/A   65C    P8     4W /  N/A |      0MiB /  4096MiB |      0%      Default |\n",
      "|                               |                      |                  N/A |\n",
      "+-------------------------------+----------------------+----------------------+\n",
      "                                                                               \n",
      "+-----------------------------------------------------------------------------+\n",
      "| Processes:                                                                  |\n",
      "|  GPU   GI   CI        PID   Type   Process name                  GPU Memory |\n",
      "|        ID   ID                                                   Usage      |\n",
      "|=============================================================================|\n",
      "|    0   N/A  N/A     14532    C+G   ...86)\\Overwolf\\Overwolf.exe    N/A      |\n",
      "+-----------------------------------------------------------------------------+\n"
     ]
    }
   ],
   "source": [
    "! nvidia-smi"
   ]
  },
  {
   "attachments": {},
   "cell_type": "markdown",
   "metadata": {},
   "source": [
    "## Setup"
   ]
  },
  {
   "cell_type": "code",
   "execution_count": 2,
   "metadata": {},
   "outputs": [],
   "source": [
    "import os\n",
    "\n",
    "import numpy as np\n",
    "import pandas as pd\n",
    "\n",
    "import sklearn\n",
    "import sklearn.metrics\n",
    "import sklearn.preprocessing\n",
    "\n",
    "import tensorflow as tf\n",
    "from tensorflow import keras\n",
    "from keras import Sequential\n",
    "from keras import layers"
   ]
  },
  {
   "cell_type": "code",
   "execution_count": 3,
   "metadata": {},
   "outputs": [],
   "source": [
    "# Seed to reproduce results\n",
    "np.random.seed(0)\n",
    "tf.random.set_seed(0)"
   ]
  },
  {
   "cell_type": "code",
   "execution_count": 4,
   "metadata": {},
   "outputs": [],
   "source": [
    "train_df = pd.read_json('data/stock_train.json')\n",
    "test_df = pd.read_json('data/stock_test.json')"
   ]
  },
  {
   "cell_type": "code",
   "execution_count": 5,
   "metadata": {},
   "outputs": [
    {
     "data": {
      "text/html": [
       "<div>\n",
       "<style scoped>\n",
       "    .dataframe tbody tr th:only-of-type {\n",
       "        vertical-align: middle;\n",
       "    }\n",
       "\n",
       "    .dataframe tbody tr th {\n",
       "        vertical-align: top;\n",
       "    }\n",
       "\n",
       "    .dataframe thead th {\n",
       "        text-align: right;\n",
       "    }\n",
       "</style>\n",
       "<table border=\"1\" class=\"dataframe\">\n",
       "  <thead>\n",
       "    <tr style=\"text-align: right;\">\n",
       "      <th></th>\n",
       "      <th>text</th>\n",
       "      <th>label</th>\n",
       "      <th>label_id</th>\n",
       "    </tr>\n",
       "  </thead>\n",
       "  <tbody>\n",
       "    <tr>\n",
       "      <th>0</th>\n",
       "      <td>Tại thị trường trong nước, khảo sát lúc 9 giờ ...</td>\n",
       "      <td>positive</td>\n",
       "      <td>0</td>\n",
       "    </tr>\n",
       "    <tr>\n",
       "      <th>1</th>\n",
       "      <td>tăng 50.000 đồng/lượng ở cả hai chiều mua và b...</td>\n",
       "      <td>positive</td>\n",
       "      <td>0</td>\n",
       "    </tr>\n",
       "    <tr>\n",
       "      <th>2</th>\n",
       "      <td>Tại 2 thị trường lớn khác là Hà Nội và Đà Nẵng...</td>\n",
       "      <td>positive</td>\n",
       "      <td>0</td>\n",
       "    </tr>\n",
       "    <tr>\n",
       "      <th>3</th>\n",
       "      <td>Vàng lại bật tăng vượt ngưỡng 2.000 USD/ounce</td>\n",
       "      <td>positive</td>\n",
       "      <td>0</td>\n",
       "    </tr>\n",
       "    <tr>\n",
       "      <th>4</th>\n",
       "      <td>tăng 24 USD/ounce so với cùng giờ sáng qua</td>\n",
       "      <td>positive</td>\n",
       "      <td>0</td>\n",
       "    </tr>\n",
       "    <tr>\n",
       "      <th>...</th>\n",
       "      <td>...</td>\n",
       "      <td>...</td>\n",
       "      <td>...</td>\n",
       "    </tr>\n",
       "    <tr>\n",
       "      <th>1511</th>\n",
       "      <td>Danh mục đầu tư 60/40 là mô hình phân chia tài...</td>\n",
       "      <td>neutral</td>\n",
       "      <td>2</td>\n",
       "    </tr>\n",
       "    <tr>\n",
       "      <th>1512</th>\n",
       "      <td>Theo tính toán của Vanguard, lợi nhuận hàng nă...</td>\n",
       "      <td>neutral</td>\n",
       "      <td>2</td>\n",
       "    </tr>\n",
       "    <tr>\n",
       "      <th>1513</th>\n",
       "      <td>Nhóm chuyên gia JP Morgan xem xét 200 loại tài...</td>\n",
       "      <td>neutral</td>\n",
       "      <td>2</td>\n",
       "    </tr>\n",
       "    <tr>\n",
       "      <th>1514</th>\n",
       "      <td>Kết luận đưa ra là các nguyên tắc cốt lõi của ...</td>\n",
       "      <td>neutral</td>\n",
       "      <td>2</td>\n",
       "    </tr>\n",
       "    <tr>\n",
       "      <th>1515</th>\n",
       "      <td>Danh mục đầu tư 60/40, như tên gọi của nó, yêu...</td>\n",
       "      <td>neutral</td>\n",
       "      <td>2</td>\n",
       "    </tr>\n",
       "  </tbody>\n",
       "</table>\n",
       "<p>1516 rows × 3 columns</p>\n",
       "</div>"
      ],
      "text/plain": [
       "                                                   text     label  label_id\n",
       "0     Tại thị trường trong nước, khảo sát lúc 9 giờ ...  positive         0\n",
       "1     tăng 50.000 đồng/lượng ở cả hai chiều mua và b...  positive         0\n",
       "2     Tại 2 thị trường lớn khác là Hà Nội và Đà Nẵng...  positive         0\n",
       "3         Vàng lại bật tăng vượt ngưỡng 2.000 USD/ounce  positive         0\n",
       "4            tăng 24 USD/ounce so với cùng giờ sáng qua  positive         0\n",
       "...                                                 ...       ...       ...\n",
       "1511  Danh mục đầu tư 60/40 là mô hình phân chia tài...   neutral         2\n",
       "1512  Theo tính toán của Vanguard, lợi nhuận hàng nă...   neutral         2\n",
       "1513  Nhóm chuyên gia JP Morgan xem xét 200 loại tài...   neutral         2\n",
       "1514  Kết luận đưa ra là các nguyên tắc cốt lõi của ...   neutral         2\n",
       "1515  Danh mục đầu tư 60/40, như tên gọi của nó, yêu...   neutral         2\n",
       "\n",
       "[1516 rows x 3 columns]"
      ]
     },
     "execution_count": 5,
     "metadata": {},
     "output_type": "execute_result"
    }
   ],
   "source": [
    "train_df"
   ]
  },
  {
   "cell_type": "code",
   "execution_count": 6,
   "metadata": {},
   "outputs": [
    {
     "data": {
      "text/html": [
       "<div>\n",
       "<style scoped>\n",
       "    .dataframe tbody tr th:only-of-type {\n",
       "        vertical-align: middle;\n",
       "    }\n",
       "\n",
       "    .dataframe tbody tr th {\n",
       "        vertical-align: top;\n",
       "    }\n",
       "\n",
       "    .dataframe thead th {\n",
       "        text-align: right;\n",
       "    }\n",
       "</style>\n",
       "<table border=\"1\" class=\"dataframe\">\n",
       "  <thead>\n",
       "    <tr style=\"text-align: right;\">\n",
       "      <th></th>\n",
       "      <th>text</th>\n",
       "      <th>label</th>\n",
       "      <th>label_id</th>\n",
       "    </tr>\n",
       "  </thead>\n",
       "  <tbody>\n",
       "    <tr>\n",
       "      <th>0</th>\n",
       "      <td>Tại 2 thị trường lớn khác là Hà Nội và Đà Nẵng...</td>\n",
       "      <td>positive</td>\n",
       "      <td>0</td>\n",
       "    </tr>\n",
       "    <tr>\n",
       "      <th>1</th>\n",
       "      <td>Như vậy, trong 2 ngày qua, giá vàng nhẫn đã tă...</td>\n",
       "      <td>positive</td>\n",
       "      <td>0</td>\n",
       "    </tr>\n",
       "    <tr>\n",
       "      <th>2</th>\n",
       "      <td>Giá vàng thế giới bật tăng trở lại, khi lực cầ...</td>\n",
       "      <td>positive</td>\n",
       "      <td>0</td>\n",
       "    </tr>\n",
       "    <tr>\n",
       "      <th>3</th>\n",
       "      <td>Tại thị trường thế giới, thời điểm lúc 9 giờ 3...</td>\n",
       "      <td>positive</td>\n",
       "      <td>0</td>\n",
       "    </tr>\n",
       "    <tr>\n",
       "      <th>4</th>\n",
       "      <td>Tuy nhiên, sau đó lực cầu bắt đáy mạnh đã giúp...</td>\n",
       "      <td>positive</td>\n",
       "      <td>0</td>\n",
       "    </tr>\n",
       "    <tr>\n",
       "      <th>...</th>\n",
       "      <td>...</td>\n",
       "      <td>...</td>\n",
       "      <td>...</td>\n",
       "    </tr>\n",
       "    <tr>\n",
       "      <th>997</th>\n",
       "      <td>Ngoài 47 triệu cổ phiếu khớp lệnh, HAG còn ghi...</td>\n",
       "      <td>neutral</td>\n",
       "      <td>2</td>\n",
       "    </tr>\n",
       "    <tr>\n",
       "      <th>998</th>\n",
       "      <td>báo cáo giải trình của SHS cho biết</td>\n",
       "      <td>neutral</td>\n",
       "      <td>2</td>\n",
       "    </tr>\n",
       "    <tr>\n",
       "      <th>999</th>\n",
       "      <td>Cuối quý I, SHS nắm giữ 2.240 tỷ đồng cổ phiếu...</td>\n",
       "      <td>neutral</td>\n",
       "      <td>2</td>\n",
       "    </tr>\n",
       "    <tr>\n",
       "      <th>1000</th>\n",
       "      <td>SHS còn nắm giữ hơn 420 tỷ đồng TCB với giá tr...</td>\n",
       "      <td>neutral</td>\n",
       "      <td>2</td>\n",
       "    </tr>\n",
       "    <tr>\n",
       "      <th>1001</th>\n",
       "      <td>Chứng khoán BOS thay dàn lãnh đạo mới</td>\n",
       "      <td>neutral</td>\n",
       "      <td>2</td>\n",
       "    </tr>\n",
       "  </tbody>\n",
       "</table>\n",
       "<p>1002 rows × 3 columns</p>\n",
       "</div>"
      ],
      "text/plain": [
       "                                                   text     label  label_id\n",
       "0     Tại 2 thị trường lớn khác là Hà Nội và Đà Nẵng...  positive         0\n",
       "1     Như vậy, trong 2 ngày qua, giá vàng nhẫn đã tă...  positive         0\n",
       "2     Giá vàng thế giới bật tăng trở lại, khi lực cầ...  positive         0\n",
       "3     Tại thị trường thế giới, thời điểm lúc 9 giờ 3...  positive         0\n",
       "4     Tuy nhiên, sau đó lực cầu bắt đáy mạnh đã giúp...  positive         0\n",
       "...                                                 ...       ...       ...\n",
       "997   Ngoài 47 triệu cổ phiếu khớp lệnh, HAG còn ghi...   neutral         2\n",
       "998                 báo cáo giải trình của SHS cho biết   neutral         2\n",
       "999   Cuối quý I, SHS nắm giữ 2.240 tỷ đồng cổ phiếu...   neutral         2\n",
       "1000  SHS còn nắm giữ hơn 420 tỷ đồng TCB với giá tr...   neutral         2\n",
       "1001              Chứng khoán BOS thay dàn lãnh đạo mới   neutral         2\n",
       "\n",
       "[1002 rows x 3 columns]"
      ]
     },
     "execution_count": 6,
     "metadata": {},
     "output_type": "execute_result"
    }
   ],
   "source": [
    "test_df"
   ]
  },
  {
   "cell_type": "code",
   "execution_count": 7,
   "metadata": {},
   "outputs": [
    {
     "name": "stderr",
     "output_type": "stream",
     "text": [
      "c:\\Users\\DELL\\Programming\\python\\StockReview.IntroAI.20222\\venv\\lib\\site-packages\\sklearn\\preprocessing\\_encoders.py:868: FutureWarning: `sparse` was renamed to `sparse_output` in version 1.2 and will be removed in 1.4. `sparse_output` is ignored unless you leave `sparse` to its default value.\n",
      "  warnings.warn(\n"
     ]
    }
   ],
   "source": [
    "# Label One-Hot-Encoding\n",
    "label_encoded = sklearn.preprocessing.OneHotEncoder(sparse=False).fit_transform(pd.DataFrame([*list(train_df.label_id), *list(test_df.label_id)]))"
   ]
  },
  {
   "cell_type": "code",
   "execution_count": 8,
   "metadata": {},
   "outputs": [
    {
     "name": "stdout",
     "output_type": "stream",
     "text": [
      "128\n",
      "Texts:  [b'V\\xe1\\xbb\\x9bi vi\\xe1\\xbb\\x87c \\xc4\\x91\\xc6\\xb0a s\\xe1\\xbb\\x9f h\\xe1\\xbb\\xafu v\\xe1\\xbb\\x81 d\\xc6\\xb0\\xe1\\xbb\\x9bi ng\\xc6\\xb0\\xe1\\xbb\\xa1ng 5%, SMBC kh\\xc3\\xb4ng c\\xe1\\xba\\xa7n c\\xc3\\xb4ng b\\xe1\\xbb\\x91 th\\xc3\\xb4ng tin nh\\xe1\\xbb\\xafng l\\xe1\\xba\\xa7n giao d\\xe1\\xbb\\x8bch sau \\xc4\\x91\\xc3\\xb3']\n",
      "Labels:  [[0. 0. 1.]]\n"
     ]
    }
   ],
   "source": [
    "# Create TensorFlow Dataset\n",
    "train_dataset = tf.data.Dataset.from_tensor_slices((train_df.text, label_encoded[:len(train_df)]))\n",
    "test_dataset = tf.data.Dataset.from_tensor_slices((test_df.text, label_encoded[len(train_df):]))\n",
    "\n",
    "# Batches\n",
    "BUFFER_SIZE = 10000\n",
    "BATCH_SIZE = 128\n",
    "\n",
    "train_dataset = train_dataset.shuffle(BUFFER_SIZE).batch(BATCH_SIZE).prefetch(tf.data.AUTOTUNE)\n",
    "test_dataset = test_dataset.batch(BATCH_SIZE).prefetch(tf.data.AUTOTUNE)\n",
    "\n",
    "for example, label in train_dataset.take(1):\n",
    "    print(len(example))\n",
    "    print('Texts: ', example.numpy()[:1])\n",
    "    print('Labels: ', label.numpy()[:1])"
   ]
  },
  {
   "attachments": {},
   "cell_type": "markdown",
   "metadata": {},
   "source": [
    "## Encoder"
   ]
  },
  {
   "cell_type": "code",
   "execution_count": 9,
   "metadata": {},
   "outputs": [
    {
     "name": "stdout",
     "output_type": "stream",
     "text": [
      "Vocab_size: 2279\n"
     ]
    },
    {
     "data": {
      "text/plain": [
       "['', '[UNK]', 'và', 'trong', 'tăng', 'với', 'cổ', 'của', 'có', 'đầu']"
      ]
     },
     "execution_count": 9,
     "metadata": {},
     "output_type": "execute_result"
    }
   ],
   "source": [
    "# Encoder Vocab Size\n",
    "VOCAB_SIZE = 10000\n",
    "\n",
    "# Encoder\n",
    "encoder = layers.TextVectorization(VOCAB_SIZE)\n",
    "\n",
    "# Adapt TextVectorization for Train text to sets the layer's vocabulary\n",
    "encoder.adapt(train_dataset.map(lambda text, label: text))\n",
    "\n",
    "# Vocab\n",
    "print(f\"Vocab_size: {len(encoder.get_vocabulary())}\")\n",
    "encoder.get_vocabulary()[:10]"
   ]
  },
  {
   "attachments": {},
   "cell_type": "markdown",
   "metadata": {},
   "source": [
    "Once the vocabulary is set, the layer can encode text into indices. The tensors of **indices are 0-padded to the longest sequence** in the batch (unless you set a fixed `output_sequence_length`)"
   ]
  },
  {
   "attachments": {},
   "cell_type": "markdown",
   "metadata": {},
   "source": [
    "## DBGRU"
   ]
  },
  {
   "attachments": {},
   "cell_type": "markdown",
   "metadata": {},
   "source": [
    "### Architecture"
   ]
  },
  {
   "attachments": {},
   "cell_type": "markdown",
   "metadata": {},
   "source": [
    "![A drawing of the information flow in the model](https://github.com/tensorflow/text/blob/master/docs/tutorials/images/bidirectional.png?raw=1)"
   ]
  },
  {
   "attachments": {},
   "cell_type": "markdown",
   "metadata": {},
   "source": [
    "**Architecture of Bidirectional Model:**\n",
    "1. This model can be build as a `Sequential`.\n",
    "\n",
    "2. The first layer is the `encoder`, which converts the text to a sequence of token indices.\n",
    "\n",
    "3. After the encoder is an embedding layer. An embedding layer stores one vector per word. When called, it converts the sequences of word indices to sequences of vectors. These vectors are trainable. After training (on enough data), words with similar meanings often have similar vectors.\n",
    "\n",
    " This index-lookup is much more efficient than the equivalent operation of passing a one-hot encoded vector through a `Dense` layer.\n",
    "\n",
    "4. A recurrent neural network (RNN) processes sequence input by iterating through the elements. RNNs pass the outputs from one timestep to their input on the next timestep.\n",
    "\n",
    "  The `Bidirectional` wrapper can also be used with an RNN layer. This propagates the input forward and backwards through the RNN layer and then concatenates the final output. \n",
    "\n",
    "  * The main advantage of a bidirectional RNN is that the signal from the beginning of the input doesn't need to be processed all the way through every timestep to affect the output.  \n",
    "\n",
    "  * The main disadvantage of a bidirectional RNN is that you can't efficiently stream predictions as words are being added to the end.\n",
    "\n",
    "5. After the RNN has converted the sequence to a single vector the two `Dense` do some final processing, and convert from this vector representation to a single logit as the classification output. "
   ]
  },
  {
   "attachments": {},
   "cell_type": "markdown",
   "metadata": {},
   "source": [
    "Keras recurrent layers have two available modes that are controlled by the `return_sequences` constructor argument:\n",
    "\n",
    "* If `False` it returns only the last output for each input sequence (a 2D tensor of shape `(batch_size, output_features)`). This is the default, used in the previous model.\n",
    "\n",
    "* If `True` the full sequences of successive outputs for each timestep is returned (a 3D tensor of shape `(batch_size, timesteps, output_features)`).\n",
    "\n",
    "Here is what the flow of information looks like with `return_sequences=True`:\n",
    "\n",
    "![layered_bidirectional](https://www.tensorflow.org/text/tutorials/images/layered_bidirectional.png)\n",
    "\n",
    "The interesting thing about using an `RNN` with `return_sequences=True` is that the output still has 3-axes, like the input, so it can be passed to another RNN layer"
   ]
  },
  {
   "cell_type": "code",
   "execution_count": 10,
   "metadata": {},
   "outputs": [
    {
     "name": "stdout",
     "output_type": "stream",
     "text": [
      "Model: \"sequential\"\n",
      "_________________________________________________________________\n",
      " Layer (type)                Output Shape              Param #   \n",
      "=================================================================\n",
      " text_vectorization (TextVec  (None, None)             0         \n",
      " torization)                                                     \n",
      "                                                                 \n",
      " embedding (Embedding)       (None, None, 128)         291712    \n",
      "                                                                 \n",
      " bidirectional (Bidirectiona  (None, None, 128)        74496     \n",
      " l)                                                              \n",
      "                                                                 \n",
      " dropout (Dropout)           (None, None, 128)         0         \n",
      "                                                                 \n",
      " bidirectional_1 (Bidirectio  (None, 64)               31104     \n",
      " nal)                                                            \n",
      "                                                                 \n",
      " dropout_1 (Dropout)         (None, 64)                0         \n",
      "                                                                 \n",
      " dense (Dense)               (None, 32)                2080      \n",
      "                                                                 \n",
      " dense_1 (Dense)             (None, 3)                 99        \n",
      "                                                                 \n",
      "=================================================================\n",
      "Total params: 399,491\n",
      "Trainable params: 399,491\n",
      "Non-trainable params: 0\n",
      "_________________________________________________________________\n"
     ]
    }
   ],
   "source": [
    "# Model\n",
    "model = Sequential([\n",
    "    encoder,\n",
    "    layers.Embedding(\n",
    "        input_dim=len(encoder.get_vocabulary()),\n",
    "        output_dim=128,\n",
    "        mask_zero=True\n",
    "        ),\n",
    "    layers.Bidirectional(layers.GRU(64, return_sequences = True)),\n",
    "    layers.Dropout(0.3),\n",
    "    layers.Bidirectional(layers.GRU(32)),\n",
    "    layers.Dropout(0.3),\n",
    "    layers.Dense(32, activation = \"relu\"),\n",
    "    layers.Dense(3, activation = \"softmax\")])\n",
    "model.summary()"
   ]
  },
  {
   "cell_type": "code",
   "execution_count": 11,
   "metadata": {},
   "outputs": [
    {
     "name": "stdout",
     "output_type": "stream",
     "text": [
      "Epoch 1/50\n",
      "12/12 [==============================] - 51s 1s/step - loss: 0.6504 - acc: 0.3806 - val_loss: 0.6228 - val_acc: 0.4541\n",
      "Epoch 2/50\n",
      "12/12 [==============================] - 4s 330ms/step - loss: 0.4723 - acc: 0.6821 - val_loss: 0.5285 - val_acc: 0.6407\n",
      "Epoch 3/50\n",
      "12/12 [==============================] - 4s 374ms/step - loss: 0.2401 - acc: 0.8687 - val_loss: 0.5834 - val_acc: 0.6367\n",
      "Epoch 4/50\n",
      "12/12 [==============================] - 4s 349ms/step - loss: 0.1378 - acc: 0.9268 - val_loss: 0.7231 - val_acc: 0.6487\n",
      "Epoch 5/50\n",
      "12/12 [==============================] - 4s 352ms/step - loss: 0.0742 - acc: 0.9611 - val_loss: 0.7629 - val_acc: 0.6377\n",
      "Epoch 6/50\n",
      "12/12 [==============================] - 4s 340ms/step - loss: 0.0533 - acc: 0.9782 - val_loss: 0.9030 - val_acc: 0.6267\n",
      "Epoch 7/50\n",
      "12/12 [==============================] - 4s 365ms/step - loss: 0.0308 - acc: 0.9828 - val_loss: 0.9157 - val_acc: 0.6188\n",
      "Epoch 8/50\n",
      "12/12 [==============================] - 5s 384ms/step - loss: 0.0303 - acc: 0.9848 - val_loss: 0.9982 - val_acc: 0.6357\n",
      "Epoch 9/50\n",
      "12/12 [==============================] - 4s 377ms/step - loss: 0.0194 - acc: 0.9881 - val_loss: 1.1012 - val_acc: 0.6357\n",
      "Epoch 10/50\n",
      "12/12 [==============================] - 4s 356ms/step - loss: 0.0222 - acc: 0.9901 - val_loss: 1.1633 - val_acc: 0.6218\n",
      "Epoch 11/50\n",
      "12/12 [==============================] - 5s 379ms/step - loss: 0.0141 - acc: 0.9927 - val_loss: 1.1811 - val_acc: 0.6168\n",
      "Epoch 12/50\n",
      "12/12 [==============================] - 5s 384ms/step - loss: 0.0129 - acc: 0.9927 - val_loss: 1.2614 - val_acc: 0.6297\n",
      "Epoch 13/50\n",
      "12/12 [==============================] - 4s 362ms/step - loss: 0.0136 - acc: 0.9934 - val_loss: 1.2544 - val_acc: 0.6297\n",
      "Epoch 14/50\n",
      "12/12 [==============================] - 4s 368ms/step - loss: 0.0170 - acc: 0.9894 - val_loss: 1.2876 - val_acc: 0.6118\n",
      "Epoch 15/50\n",
      "12/12 [==============================] - 5s 389ms/step - loss: 0.0134 - acc: 0.9927 - val_loss: 1.3088 - val_acc: 0.6297\n",
      "Epoch 16/50\n",
      "12/12 [==============================] - 5s 387ms/step - loss: 0.0102 - acc: 0.9941 - val_loss: 1.3665 - val_acc: 0.6267\n",
      "Epoch 17/50\n",
      "12/12 [==============================] - 5s 399ms/step - loss: 0.0105 - acc: 0.9954 - val_loss: 1.3693 - val_acc: 0.6367\n",
      "Epoch 18/50\n",
      "12/12 [==============================] - 5s 396ms/step - loss: 0.0107 - acc: 0.9954 - val_loss: 1.4910 - val_acc: 0.6228\n",
      "Epoch 19/50\n",
      "12/12 [==============================] - 5s 408ms/step - loss: 0.0185 - acc: 0.9921 - val_loss: 1.4490 - val_acc: 0.6158\n",
      "Epoch 20/50\n",
      "12/12 [==============================] - 5s 402ms/step - loss: 0.0186 - acc: 0.9921 - val_loss: 1.4079 - val_acc: 0.6228\n",
      "Epoch 21/50\n",
      "12/12 [==============================] - 4s 356ms/step - loss: 0.0367 - acc: 0.9828 - val_loss: 1.3970 - val_acc: 0.6088\n",
      "Epoch 22/50\n",
      "12/12 [==============================] - 5s 400ms/step - loss: 0.0322 - acc: 0.9855 - val_loss: 1.2407 - val_acc: 0.6198\n",
      "Epoch 23/50\n",
      "12/12 [==============================] - 5s 380ms/step - loss: 0.0277 - acc: 0.9835 - val_loss: 1.2666 - val_acc: 0.6218\n",
      "Epoch 24/50\n",
      "12/12 [==============================] - 5s 385ms/step - loss: 0.0200 - acc: 0.9901 - val_loss: 1.2590 - val_acc: 0.6337\n",
      "Epoch 25/50\n",
      "12/12 [==============================] - 4s 370ms/step - loss: 0.0126 - acc: 0.9947 - val_loss: 1.2546 - val_acc: 0.6457\n",
      "Epoch 26/50\n",
      "12/12 [==============================] - 4s 362ms/step - loss: 0.0082 - acc: 0.9967 - val_loss: 1.3553 - val_acc: 0.6577\n",
      "Epoch 27/50\n",
      "12/12 [==============================] - 4s 351ms/step - loss: 0.0068 - acc: 0.9974 - val_loss: 1.3750 - val_acc: 0.6497\n",
      "Epoch 28/50\n",
      "12/12 [==============================] - 4s 377ms/step - loss: 0.0041 - acc: 0.9974 - val_loss: 1.4339 - val_acc: 0.6377\n",
      "Epoch 29/50\n",
      "12/12 [==============================] - 4s 373ms/step - loss: 0.0033 - acc: 0.9987 - val_loss: 1.4218 - val_acc: 0.6517\n",
      "Epoch 30/50\n",
      "12/12 [==============================] - 5s 418ms/step - loss: 0.0020 - acc: 0.9987 - val_loss: 1.4546 - val_acc: 0.6547\n",
      "Epoch 31/50\n",
      "12/12 [==============================] - 5s 394ms/step - loss: 0.0033 - acc: 0.9974 - val_loss: 1.4863 - val_acc: 0.6547\n",
      "Epoch 32/50\n",
      "12/12 [==============================] - 5s 391ms/step - loss: 0.0048 - acc: 0.9960 - val_loss: 1.4807 - val_acc: 0.6577\n",
      "Epoch 33/50\n",
      "12/12 [==============================] - 4s 349ms/step - loss: 0.0031 - acc: 0.9974 - val_loss: 1.4862 - val_acc: 0.6617\n",
      "Epoch 34/50\n",
      "12/12 [==============================] - 4s 353ms/step - loss: 0.0031 - acc: 0.9974 - val_loss: 1.4839 - val_acc: 0.6577\n",
      "Epoch 35/50\n",
      "12/12 [==============================] - 5s 392ms/step - loss: 0.0035 - acc: 0.9980 - val_loss: 1.4898 - val_acc: 0.6537\n",
      "Epoch 36/50\n",
      "12/12 [==============================] - 5s 427ms/step - loss: 0.0028 - acc: 0.9967 - val_loss: 1.5142 - val_acc: 0.6557\n",
      "Epoch 37/50\n",
      "12/12 [==============================] - 6s 543ms/step - loss: 0.0018 - acc: 0.9993 - val_loss: 1.5157 - val_acc: 0.6577\n",
      "Epoch 38/50\n",
      "12/12 [==============================] - 7s 578ms/step - loss: 0.0028 - acc: 0.9974 - val_loss: 1.5435 - val_acc: 0.6607\n",
      "Epoch 39/50\n",
      "12/12 [==============================] - 7s 571ms/step - loss: 0.0024 - acc: 0.9980 - val_loss: 1.5600 - val_acc: 0.6577\n",
      "Epoch 40/50\n",
      "12/12 [==============================] - 7s 596ms/step - loss: 0.0024 - acc: 0.9974 - val_loss: 1.5681 - val_acc: 0.6577\n",
      "Epoch 41/50\n",
      "12/12 [==============================] - 6s 501ms/step - loss: 0.0025 - acc: 0.9980 - val_loss: 1.5804 - val_acc: 0.6577\n",
      "Epoch 42/50\n",
      "12/12 [==============================] - 6s 503ms/step - loss: 0.0034 - acc: 0.9974 - val_loss: 1.6030 - val_acc: 0.6557\n",
      "Epoch 43/50\n",
      "12/12 [==============================] - 6s 503ms/step - loss: 0.0017 - acc: 0.9993 - val_loss: 1.6387 - val_acc: 0.6537\n",
      "Epoch 44/50\n",
      "12/12 [==============================] - 7s 564ms/step - loss: 0.0026 - acc: 0.9980 - val_loss: 1.6295 - val_acc: 0.6547\n",
      "Epoch 45/50\n",
      "12/12 [==============================] - 5s 464ms/step - loss: 0.0025 - acc: 0.9987 - val_loss: 1.6449 - val_acc: 0.6527\n",
      "Epoch 46/50\n",
      "12/12 [==============================] - 6s 471ms/step - loss: 0.0036 - acc: 0.9980 - val_loss: 1.5875 - val_acc: 0.6597\n",
      "Epoch 47/50\n",
      "12/12 [==============================] - 6s 475ms/step - loss: 0.0024 - acc: 0.9980 - val_loss: 1.5732 - val_acc: 0.6567\n",
      "Epoch 48/50\n",
      "12/12 [==============================] - 5s 438ms/step - loss: 0.0029 - acc: 0.9980 - val_loss: 1.5829 - val_acc: 0.6637\n",
      "Epoch 49/50\n",
      "12/12 [==============================] - 5s 408ms/step - loss: 0.0012 - acc: 0.9993 - val_loss: 1.6051 - val_acc: 0.6627\n",
      "Epoch 50/50\n",
      "12/12 [==============================] - 5s 403ms/step - loss: 0.0026 - acc: 0.9987 - val_loss: 1.6068 - val_acc: 0.6637\n"
     ]
    }
   ],
   "source": [
    "# Compile\n",
    "model.compile(\n",
    "    loss = tf.keras.losses.BinaryCrossentropy(),\n",
    "    optimizer = tf.keras.optimizers.Adam(5 * 1e-3),\n",
    "    metrics = 'acc'\n",
    ")\n",
    "\n",
    "# Train \n",
    "history_training = model.fit(\n",
    "    train_dataset, \n",
    "    epochs = 50,\n",
    "    validation_data = test_dataset\n",
    ")"
   ]
  },
  {
   "cell_type": "code",
   "execution_count": 12,
   "metadata": {},
   "outputs": [
    {
     "data": {
      "text/plain": [
       "(0.0, 1.0)"
      ]
     },
     "execution_count": 12,
     "metadata": {},
     "output_type": "execute_result"
    },
    {
     "data": {
      "image/png": "[encoded data removed]",
      "text/plain": [
       "<Figure size 1200x400 with 1 Axes>"
      ]
     },
     "metadata": {},
     "output_type": "display_data"
    }
   ],
   "source": [
    "# Visualization\n",
    "import matplotlib.pyplot as plt\n",
    "import matplotlib.style\n",
    "import matplotlib as mpl\n",
    "mpl.style.use('classic')\n",
    "pd.DataFrame(history_training.history).plot(figsize = (15,5))\n",
    "plt.grid(True)\n",
    "plt.gca().set_ylim(0,1)"
   ]
  },
  {
   "cell_type": "code",
   "execution_count": 13,
   "metadata": {},
   "outputs": [
    {
     "name": "stdout",
     "output_type": "stream",
     "text": [
      "12/12 [==============================] - 1s 98ms/step - loss: 0.0021 - acc: 0.9980\n",
      "8/8 [==============================] - 1s 107ms/step - loss: 1.6068 - acc: 0.6637\n",
      "32/32 [==============================] - 13s 21ms/step\n"
     ]
    },
    {
     "data": {
      "text/html": [
       "<div>\n",
       "<style scoped>\n",
       "    .dataframe tbody tr th:only-of-type {\n",
       "        vertical-align: middle;\n",
       "    }\n",
       "\n",
       "    .dataframe tbody tr th {\n",
       "        vertical-align: top;\n",
       "    }\n",
       "\n",
       "    .dataframe thead th {\n",
       "        text-align: right;\n",
       "    }\n",
       "</style>\n",
       "<table border=\"1\" class=\"dataframe\">\n",
       "  <thead>\n",
       "    <tr style=\"text-align: right;\">\n",
       "      <th></th>\n",
       "      <th>precision</th>\n",
       "      <th>recall</th>\n",
       "      <th>f1-score</th>\n",
       "      <th>support</th>\n",
       "    </tr>\n",
       "  </thead>\n",
       "  <tbody>\n",
       "    <tr>\n",
       "      <th>0</th>\n",
       "      <td>0.694915</td>\n",
       "      <td>0.687151</td>\n",
       "      <td>0.691011</td>\n",
       "      <td>358.000000</td>\n",
       "    </tr>\n",
       "    <tr>\n",
       "      <th>1</th>\n",
       "      <td>0.731788</td>\n",
       "      <td>0.684211</td>\n",
       "      <td>0.707200</td>\n",
       "      <td>323.000000</td>\n",
       "    </tr>\n",
       "    <tr>\n",
       "      <th>2</th>\n",
       "      <td>0.572254</td>\n",
       "      <td>0.616822</td>\n",
       "      <td>0.593703</td>\n",
       "      <td>321.000000</td>\n",
       "    </tr>\n",
       "    <tr>\n",
       "      <th>accuracy</th>\n",
       "      <td>0.663673</td>\n",
       "      <td>0.663673</td>\n",
       "      <td>0.663673</td>\n",
       "      <td>0.663673</td>\n",
       "    </tr>\n",
       "    <tr>\n",
       "      <th>macro avg</th>\n",
       "      <td>0.666319</td>\n",
       "      <td>0.662728</td>\n",
       "      <td>0.663971</td>\n",
       "      <td>1002.000000</td>\n",
       "    </tr>\n",
       "    <tr>\n",
       "      <th>weighted avg</th>\n",
       "      <td>0.667506</td>\n",
       "      <td>0.663673</td>\n",
       "      <td>0.665056</td>\n",
       "      <td>1002.000000</td>\n",
       "    </tr>\n",
       "  </tbody>\n",
       "</table>\n",
       "</div>"
      ],
      "text/plain": [
       "              precision    recall  f1-score      support\n",
       "0              0.694915  0.687151  0.691011   358.000000\n",
       "1              0.731788  0.684211  0.707200   323.000000\n",
       "2              0.572254  0.616822  0.593703   321.000000\n",
       "accuracy       0.663673  0.663673  0.663673     0.663673\n",
       "macro avg      0.666319  0.662728  0.663971  1002.000000\n",
       "weighted avg   0.667506  0.663673  0.665056  1002.000000"
      ]
     },
     "execution_count": 13,
     "metadata": {},
     "output_type": "execute_result"
    }
   ],
   "source": [
    "# Evaluation\n",
    "train_loss, train_acc = model.evaluate(train_dataset)\n",
    "test_loss, test_acc = model.evaluate(test_dataset)\n",
    "\n",
    "# Prediction\n",
    "preds = model.predict(test_df.text)\n",
    "preds = tf.math.argmax(preds, -1)\n",
    "\n",
    "# Report\n",
    "report = sklearn.metrics.classification_report(test_df.label_id, preds, output_dict=True)\n",
    "df_report = pd.DataFrame(report).transpose()\n",
    "df_report"
   ]
  },
  {
   "cell_type": "code",
   "execution_count": 18,
   "metadata": {},
   "outputs": [
    {
     "ename": "ValueError",
     "evalue": "in user code:\n\n    File \"c:\\Users\\DELL\\Programming\\python\\StockReview.IntroAI.20222\\venv\\lib\\site-packages\\keras\\engine\\training.py\", line 2169, in predict_function  *\n        return step_function(self, iterator)\n    File \"c:\\Users\\DELL\\Programming\\python\\StockReview.IntroAI.20222\\venv\\lib\\site-packages\\keras\\engine\\training.py\", line 2155, in step_function  **\n        outputs = model.distribute_strategy.run(run_step, args=(data,))\n    File \"c:\\Users\\DELL\\Programming\\python\\StockReview.IntroAI.20222\\venv\\lib\\site-packages\\keras\\engine\\training.py\", line 2143, in run_step  **\n        outputs = model.predict_step(data)\n    File \"c:\\Users\\DELL\\Programming\\python\\StockReview.IntroAI.20222\\venv\\lib\\site-packages\\keras\\engine\\training.py\", line 2111, in predict_step\n        return self(x, training=False)\n    File \"c:\\Users\\DELL\\Programming\\python\\StockReview.IntroAI.20222\\venv\\lib\\site-packages\\keras\\utils\\traceback_utils.py\", line 70, in error_handler\n        raise e.with_traceback(filtered_tb) from None\n    File \"c:\\Users\\DELL\\Programming\\python\\StockReview.IntroAI.20222\\venv\\lib\\site-packages\\keras\\layers\\preprocessing\\text_vectorization.py\", line 573, in _preprocess\n        raise ValueError(\n\n    ValueError: Exception encountered when calling layer 'text_vectorization' (type TextVectorization).\n    \n    When using `TextVectorization` to tokenize strings, the input rank must be 1 or the last shape dimension must be 1. Received: inputs.shape=(None, 6) with rank=2\n    \n    Call arguments received by layer 'text_vectorization' (type TextVectorization):\n      • inputs=tf.Tensor(shape=(None, 6), dtype=string)\n",
     "output_type": "error",
     "traceback": [
      "\u001b[1;31m---------------------------------------------------------------------------\u001b[0m",
      "\u001b[1;31mValueError\u001b[0m                                Traceback (most recent call last)",
      "Cell \u001b[1;32mIn[18], line 6\u001b[0m\n\u001b[0;32m      3\u001b[0m sample_text \u001b[39m=\u001b[39m encoder(np\u001b[39m.\u001b[39marray(sample_text))\n\u001b[0;32m      4\u001b[0m sample_text \u001b[39m=\u001b[39m tf\u001b[39m.\u001b[39msqueeze(sample_text, axis\u001b[39m=\u001b[39m\u001b[39m0\u001b[39m)\n\u001b[1;32m----> 6\u001b[0m random_preds \u001b[39m=\u001b[39m model\u001b[39m.\u001b[39;49mpredict(tf\u001b[39m.\u001b[39;49mexpand_dims(sample_text, axis\u001b[39m=\u001b[39;49m\u001b[39m0\u001b[39;49m))\n\u001b[0;32m      7\u001b[0m random_preds \u001b[39m=\u001b[39m tf\u001b[39m.\u001b[39mmath\u001b[39m.\u001b[39margmax(random_preds, \u001b[39m-\u001b[39m\u001b[39m1\u001b[39m)\n\u001b[0;32m      9\u001b[0m lbs \u001b[39m=\u001b[39m np\u001b[39m.\u001b[39munique(np\u001b[39m.\u001b[39mconcatenate([train_df\u001b[39m.\u001b[39mlabel_id, test_df\u001b[39m.\u001b[39mlabel_id]))\n",
      "File \u001b[1;32mc:\\Users\\DELL\\Programming\\python\\StockReview.IntroAI.20222\\venv\\lib\\site-packages\\keras\\utils\\traceback_utils.py:70\u001b[0m, in \u001b[0;36mfilter_traceback.<locals>.error_handler\u001b[1;34m(*args, **kwargs)\u001b[0m\n\u001b[0;32m     67\u001b[0m     filtered_tb \u001b[39m=\u001b[39m _process_traceback_frames(e\u001b[39m.\u001b[39m__traceback__)\n\u001b[0;32m     68\u001b[0m     \u001b[39m# To get the full stack trace, call:\u001b[39;00m\n\u001b[0;32m     69\u001b[0m     \u001b[39m# `tf.debugging.disable_traceback_filtering()`\u001b[39;00m\n\u001b[1;32m---> 70\u001b[0m     \u001b[39mraise\u001b[39;00m e\u001b[39m.\u001b[39mwith_traceback(filtered_tb) \u001b[39mfrom\u001b[39;00m \u001b[39mNone\u001b[39;00m\n\u001b[0;32m     71\u001b[0m \u001b[39mfinally\u001b[39;00m:\n\u001b[0;32m     72\u001b[0m     \u001b[39mdel\u001b[39;00m filtered_tb\n",
      "File \u001b[1;32m~\\AppData\\Local\\Temp\\__autograph_generated_filelhz3ry46.py:15\u001b[0m, in \u001b[0;36mouter_factory.<locals>.inner_factory.<locals>.tf__predict_function\u001b[1;34m(iterator)\u001b[0m\n\u001b[0;32m     13\u001b[0m \u001b[39mtry\u001b[39;00m:\n\u001b[0;32m     14\u001b[0m     do_return \u001b[39m=\u001b[39m \u001b[39mTrue\u001b[39;00m\n\u001b[1;32m---> 15\u001b[0m     retval_ \u001b[39m=\u001b[39m ag__\u001b[39m.\u001b[39mconverted_call(ag__\u001b[39m.\u001b[39mld(step_function), (ag__\u001b[39m.\u001b[39mld(\u001b[39mself\u001b[39m), ag__\u001b[39m.\u001b[39mld(iterator)), \u001b[39mNone\u001b[39;00m, fscope)\n\u001b[0;32m     16\u001b[0m \u001b[39mexcept\u001b[39;00m:\n\u001b[0;32m     17\u001b[0m     do_return \u001b[39m=\u001b[39m \u001b[39mFalse\u001b[39;00m\n",
      "\u001b[1;31mValueError\u001b[0m: in user code:\n\n    File \"c:\\Users\\DELL\\Programming\\python\\StockReview.IntroAI.20222\\venv\\lib\\site-packages\\keras\\engine\\training.py\", line 2169, in predict_function  *\n        return step_function(self, iterator)\n    File \"c:\\Users\\DELL\\Programming\\python\\StockReview.IntroAI.20222\\venv\\lib\\site-packages\\keras\\engine\\training.py\", line 2155, in step_function  **\n        outputs = model.distribute_strategy.run(run_step, args=(data,))\n    File \"c:\\Users\\DELL\\Programming\\python\\StockReview.IntroAI.20222\\venv\\lib\\site-packages\\keras\\engine\\training.py\", line 2143, in run_step  **\n        outputs = model.predict_step(data)\n    File \"c:\\Users\\DELL\\Programming\\python\\StockReview.IntroAI.20222\\venv\\lib\\site-packages\\keras\\engine\\training.py\", line 2111, in predict_step\n        return self(x, training=False)\n    File \"c:\\Users\\DELL\\Programming\\python\\StockReview.IntroAI.20222\\venv\\lib\\site-packages\\keras\\utils\\traceback_utils.py\", line 70, in error_handler\n        raise e.with_traceback(filtered_tb) from None\n    File \"c:\\Users\\DELL\\Programming\\python\\StockReview.IntroAI.20222\\venv\\lib\\site-packages\\keras\\layers\\preprocessing\\text_vectorization.py\", line 573, in _preprocess\n        raise ValueError(\n\n    ValueError: Exception encountered when calling layer 'text_vectorization' (type TextVectorization).\n    \n    When using `TextVectorization` to tokenize strings, the input rank must be 1 or the last shape dimension must be 1. Received: inputs.shape=(None, 6) with rank=2\n    \n    Call arguments received by layer 'text_vectorization' (type TextVectorization):\n      • inputs=tf.Tensor(shape=(None, 6), dtype=string)\n"
     ]
    }
   ],
   "source": [
    "sample_text = [\"nền kinh tế đang suy giảm\"]\n",
    "\n",
    "sample_text = encoder(np.array(sample_text))\n",
    "sample_text = tf.squeeze(sample_text, axis=0)\n",
    "\n",
    "random_preds = model.predict(tf.expand_dims(sample_text, axis=0))\n",
    "random_preds = tf.math.argmax(random_preds, -1)\n",
    "\n",
    "lbs = np.unique(np.concatenate([train_df.label_id, test_df.label_id]))\n",
    "rp = sklearn.metrics.classification_report(test_df.label_id, preds, output_dict=True, label=lbs)\n",
    "df_rp = pd.DataFrame(report).transpose()\n",
    "print(df_rp)"
   ]
  }
 ],
 "metadata": {
  "kernelspec": {
   "display_name": "venv",
   "language": "python",
   "name": "python3"
  },
  "language_info": {
   "codemirror_mode": {
    "name": "ipython",
    "version": 3
   },
   "file_extension": ".py",
   "mimetype": "text/x-python",
   "name": "python",
   "nbconvert_exporter": "python",
   "pygments_lexer": "ipython3",
   "version": "3.10.2"
  },
  "orig_nbformat": 4
 },
 "nbformat": 4,
 "nbformat_minor": 2
}
