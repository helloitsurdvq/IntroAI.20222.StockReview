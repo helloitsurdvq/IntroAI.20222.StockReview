{
 "cells": [
  {
   "attachments": {},
   "cell_type": "markdown",
   "metadata": {},
   "source": [
    "# phoBERT \n",
    "*Time for run all (GPU) : ~ 8 hours*"
   ]
  },
  {
   "attachments": {},
   "cell_type": "markdown",
   "metadata": {},
   "source": [
    "<a name=\"setup-general\"></a>\n",
    "## 1.&nbsp;General Settings\n",
    " Install some necessary libraries and download processed data for model training and evaluation"
   ]
  },
  {
   "cell_type": "code",
   "execution_count": null,
   "metadata": {},
   "outputs": [],
   "source": [
    "!git clone https://github.com/helloitsurdvq/StockReview.IntroAI.20222.git"
   ]
  },
  {
   "cell_type": "code",
   "execution_count": null,
   "metadata": {},
   "outputs": [],
   "source": [
    "%ls StockReview.IntroAI.20222/source/data/"
   ]
  },
  {
   "cell_type": "code",
   "execution_count": null,
   "metadata": {},
   "outputs": [],
   "source": [
    "%cd StockReview.IntroAI.20222/"
   ]
  },
  {
   "cell_type": "code",
   "execution_count": null,
   "metadata": {},
   "outputs": [],
   "source": [
    "%cd source/"
   ]
  },
  {
   "cell_type": "code",
   "execution_count": 2,
   "metadata": {},
   "outputs": [],
   "source": [
    "nepochs = 15\n",
    "batchsize= 8  #8, 16, 32, 64, 128\n",
    "learning_rate= 5e-5 # 3e-4, 1e-4, 5e-5, 3e-5 \n",
    "warmup = 0\n",
    "seed = 0\n",
    "\n",
    "log_name = '{}_nepochs_{}_batchsize_{}_learning_rate_{}'.format(seed, nepochs, batchsize, learning_rate, warmup)\n",
    "output = './checkpoints/' + log_name"
   ]
  },
  {
   "attachments": {},
   "cell_type": "markdown",
   "metadata": {},
   "source": [
    "## 2. Import Libraries"
   ]
  },
  {
   "cell_type": "code",
   "execution_count": 2,
   "metadata": {},
   "outputs": [
    {
     "name": "stdout",
     "output_type": "stream",
     "text": [
      "Requirement already satisfied: transformers in c:\\users\\dell\\programming\\python\\stockreview.introai.20222\\venv\\lib\\site-packages (4.29.1)\n",
      "Requirement already satisfied: pyyaml>=5.1 in c:\\users\\dell\\programming\\python\\stockreview.introai.20222\\venv\\lib\\site-packages (from transformers) (6.0)\n",
      "Requirement already satisfied: regex!=2019.12.17 in c:\\users\\dell\\programming\\python\\stockreview.introai.20222\\venv\\lib\\site-packages (from transformers) (2023.3.23)\n",
      "Requirement already satisfied: filelock in c:\\users\\dell\\programming\\python\\stockreview.introai.20222\\venv\\lib\\site-packages (from transformers) (3.12.0)\n",
      "Requirement already satisfied: tqdm>=4.27 in c:\\users\\dell\\programming\\python\\stockreview.introai.20222\\venv\\lib\\site-packages (from transformers) (4.65.0)\n",
      "Requirement already satisfied: huggingface-hub<1.0,>=0.14.1 in c:\\users\\dell\\programming\\python\\stockreview.introai.20222\\venv\\lib\\site-packages (from transformers) (0.14.1)\n",
      "Requirement already satisfied: packaging>=20.0 in c:\\users\\dell\\programming\\python\\stockreview.introai.20222\\venv\\lib\\site-packages (from transformers) (23.1)\n",
      "Requirement already satisfied: requests in c:\\users\\dell\\programming\\python\\stockreview.introai.20222\\venv\\lib\\site-packages (from transformers) (2.28.2)\n",
      "Requirement already satisfied: numpy>=1.17 in c:\\users\\dell\\programming\\python\\stockreview.introai.20222\\venv\\lib\\site-packages (from transformers) (1.23.5)\n",
      "Requirement already satisfied: tokenizers!=0.11.3,<0.14,>=0.11.1 in c:\\users\\dell\\programming\\python\\stockreview.introai.20222\\venv\\lib\\site-packages (from transformers) (0.13.3)\n",
      "Requirement already satisfied: typing-extensions>=3.7.4.3 in c:\\users\\dell\\programming\\python\\stockreview.introai.20222\\venv\\lib\\site-packages (from huggingface-hub<1.0,>=0.14.1->transformers) (4.5.0)\n",
      "Requirement already satisfied: fsspec in c:\\users\\dell\\programming\\python\\stockreview.introai.20222\\venv\\lib\\site-packages (from huggingface-hub<1.0,>=0.14.1->transformers) (2023.5.0)\n",
      "Requirement already satisfied: colorama in c:\\users\\dell\\programming\\python\\stockreview.introai.20222\\venv\\lib\\site-packages (from tqdm>=4.27->transformers) (0.4.6)\n",
      "Requirement already satisfied: charset-normalizer<4,>=2 in c:\\users\\dell\\programming\\python\\stockreview.introai.20222\\venv\\lib\\site-packages (from requests->transformers) (3.1.0)\n",
      "Requirement already satisfied: urllib3<1.27,>=1.21.1 in c:\\users\\dell\\programming\\python\\stockreview.introai.20222\\venv\\lib\\site-packages (from requests->transformers) (1.26.15)\n",
      "Requirement already satisfied: certifi>=2017.4.17 in c:\\users\\dell\\programming\\python\\stockreview.introai.20222\\venv\\lib\\site-packages (from requests->transformers) (2022.12.7)\n",
      "Requirement already satisfied: idna<4,>=2.5 in c:\\users\\dell\\programming\\python\\stockreview.introai.20222\\venv\\lib\\site-packages (from requests->transformers) (3.4)\n"
     ]
    },
    {
     "name": "stderr",
     "output_type": "stream",
     "text": [
      "WARNING: You are using pip version 21.2.4; however, version 23.1.2 is available.\n",
      "You should consider upgrading via the 'C:\\Users\\DELL\\Programming\\python\\StockReview.IntroAI.20222\\venv\\Scripts\\python.exe -m pip install --upgrade pip' command.\n"
     ]
    },
    {
     "name": "stdout",
     "output_type": "stream",
     "text": [
      "Requirement already satisfied: datasets in c:\\users\\dell\\programming\\python\\stockreview.introai.20222\\venv\\lib\\site-packages (2.12.0)\n",
      "Requirement already satisfied: responses<0.19 in c:\\users\\dell\\programming\\python\\stockreview.introai.20222\\venv\\lib\\site-packages (from datasets) (0.18.0)\n",
      "Requirement already satisfied: fsspec[http]>=2021.11.1 in c:\\users\\dell\\programming\\python\\stockreview.introai.20222\\venv\\lib\\site-packages (from datasets) (2023.5.0)\n",
      "Requirement already satisfied: aiohttp in c:\\users\\dell\\programming\\python\\stockreview.introai.20222\\venv\\lib\\site-packages (from datasets) (3.8.4)\n",
      "Requirement already satisfied: huggingface-hub<1.0.0,>=0.11.0 in c:\\users\\dell\\programming\\python\\stockreview.introai.20222\\venv\\lib\\site-packages (from datasets) (0.14.1)\n",
      "Requirement already satisfied: pandas in c:\\users\\dell\\programming\\python\\stockreview.introai.20222\\venv\\lib\\site-packages (from datasets) (2.0.1)\n",
      "Requirement already satisfied: multiprocess in c:\\users\\dell\\programming\\python\\stockreview.introai.20222\\venv\\lib\\site-packages (from datasets) (0.70.14)\n",
      "Requirement already satisfied: dill<0.3.7,>=0.3.0 in c:\\users\\dell\\programming\\python\\stockreview.introai.20222\\venv\\lib\\site-packages (from datasets) (0.3.6)\n",
      "Requirement already satisfied: numpy>=1.17 in c:\\users\\dell\\programming\\python\\stockreview.introai.20222\\venv\\lib\\site-packages (from datasets) (1.23.5)\n",
      "Requirement already satisfied: packaging in c:\\users\\dell\\programming\\python\\stockreview.introai.20222\\venv\\lib\\site-packages (from datasets) (23.1)\n",
      "Requirement already satisfied: pyarrow>=8.0.0 in c:\\users\\dell\\programming\\python\\stockreview.introai.20222\\venv\\lib\\site-packages (from datasets) (12.0.0)\n",
      "Requirement already satisfied: pyyaml>=5.1 in c:\\users\\dell\\programming\\python\\stockreview.introai.20222\\venv\\lib\\site-packages (from datasets) (6.0)\n",
      "Requirement already satisfied: xxhash in c:\\users\\dell\\programming\\python\\stockreview.introai.20222\\venv\\lib\\site-packages (from datasets) (3.2.0)\n",
      "Requirement already satisfied: requests>=2.19.0 in c:\\users\\dell\\programming\\python\\stockreview.introai.20222\\venv\\lib\\site-packages (from datasets) (2.28.2)\n",
      "Requirement already satisfied: tqdm>=4.62.1 in c:\\users\\dell\\programming\\python\\stockreview.introai.20222\\venv\\lib\\site-packages (from datasets) (4.65.0)\n",
      "Requirement already satisfied: charset-normalizer<4.0,>=2.0 in c:\\users\\dell\\programming\\python\\stockreview.introai.20222\\venv\\lib\\site-packages (from aiohttp->datasets) (3.1.0)\n",
      "Requirement already satisfied: frozenlist>=1.1.1 in c:\\users\\dell\\programming\\python\\stockreview.introai.20222\\venv\\lib\\site-packages (from aiohttp->datasets) (1.3.3)\n",
      "Requirement already satisfied: aiosignal>=1.1.2 in c:\\users\\dell\\programming\\python\\stockreview.introai.20222\\venv\\lib\\site-packages (from aiohttp->datasets) (1.3.1)\n",
      "Requirement already satisfied: multidict<7.0,>=4.5 in c:\\users\\dell\\programming\\python\\stockreview.introai.20222\\venv\\lib\\site-packages (from aiohttp->datasets) (6.0.4)\n",
      "Requirement already satisfied: attrs>=17.3.0 in c:\\users\\dell\\programming\\python\\stockreview.introai.20222\\venv\\lib\\site-packages (from aiohttp->datasets) (23.1.0)\n",
      "Requirement already satisfied: async-timeout<5.0,>=4.0.0a3 in c:\\users\\dell\\programming\\python\\stockreview.introai.20222\\venv\\lib\\site-packages (from aiohttp->datasets) (4.0.2)\n",
      "Requirement already satisfied: yarl<2.0,>=1.0 in c:\\users\\dell\\programming\\python\\stockreview.introai.20222\\venv\\lib\\site-packages (from aiohttp->datasets) (1.9.2)\n",
      "Requirement already satisfied: typing-extensions>=3.7.4.3 in c:\\users\\dell\\programming\\python\\stockreview.introai.20222\\venv\\lib\\site-packages (from huggingface-hub<1.0.0,>=0.11.0->datasets) (4.5.0)\n",
      "Requirement already satisfied: filelock in c:\\users\\dell\\programming\\python\\stockreview.introai.20222\\venv\\lib\\site-packages (from huggingface-hub<1.0.0,>=0.11.0->datasets) (3.12.0)\n",
      "Requirement already satisfied: certifi>=2017.4.17 in c:\\users\\dell\\programming\\python\\stockreview.introai.20222\\venv\\lib\\site-packages (from requests>=2.19.0->datasets) (2022.12.7)\n",
      "Requirement already satisfied: urllib3<1.27,>=1.21.1 in c:\\users\\dell\\programming\\python\\stockreview.introai.20222\\venv\\lib\\site-packages (from requests>=2.19.0->datasets) (1.26.15)\n",
      "Requirement already satisfied: idna<4,>=2.5 in c:\\users\\dell\\programming\\python\\stockreview.introai.20222\\venv\\lib\\site-packages (from requests>=2.19.0->datasets) (3.4)\n",
      "Requirement already satisfied: colorama in c:\\users\\dell\\programming\\python\\stockreview.introai.20222\\venv\\lib\\site-packages (from tqdm>=4.62.1->datasets) (0.4.6)\n",
      "Requirement already satisfied: pytz>=2020.1 in c:\\users\\dell\\programming\\python\\stockreview.introai.20222\\venv\\lib\\site-packages (from pandas->datasets) (2023.3)\n",
      "Requirement already satisfied: tzdata>=2022.1 in c:\\users\\dell\\programming\\python\\stockreview.introai.20222\\venv\\lib\\site-packages (from pandas->datasets) (2023.3)\n",
      "Requirement already satisfied: python-dateutil>=2.8.2 in c:\\users\\dell\\programming\\python\\stockreview.introai.20222\\venv\\lib\\site-packages (from pandas->datasets) (2.8.2)\n",
      "Requirement already satisfied: six>=1.5 in c:\\users\\dell\\programming\\python\\stockreview.introai.20222\\venv\\lib\\site-packages (from python-dateutil>=2.8.2->pandas->datasets) (1.16.0)\n"
     ]
    },
    {
     "name": "stderr",
     "output_type": "stream",
     "text": [
      "WARNING: You are using pip version 21.2.4; however, version 23.1.2 is available.\n",
      "You should consider upgrading via the 'C:\\Users\\DELL\\Programming\\python\\StockReview.IntroAI.20222\\venv\\Scripts\\python.exe -m pip install --upgrade pip' command.\n"
     ]
    }
   ],
   "source": [
    "!pip install transformers\n",
    "!pip install datasets"
   ]
  },
  {
   "cell_type": "code",
   "execution_count": 30,
   "metadata": {},
   "outputs": [],
   "source": [
    "from transformers import AutoTokenizer\n",
    "from transformers import AutoModelForSequenceClassification\n",
    "from datasets import load_dataset\n",
    "from transformers import Trainer\n",
    "from transformers import TrainingArguments\n",
    "from datasets import load_metric\n",
    "import numpy as np\n",
    "import pandas as pd\n",
    "import seaborn as sns\n",
    "import matplotlib.pyplot as plt\n",
    "import matplotlib.style\n",
    "import matplotlib as mpl\n",
    "mpl.style.use('classic')\n",
    "from sklearn.metrics import classification_report, confusion_matrix, ConfusionMatrixDisplay\n",
    "from tqdm import tqdm"
   ]
  },
  {
   "cell_type": "code",
   "execution_count": 4,
   "metadata": {},
   "outputs": [
    {
     "name": "stderr",
     "output_type": "stream",
     "text": [
      "Some weights of the model checkpoint at vinai/phobert-base were not used when initializing RobertaForSequenceClassification: ['lm_head.bias', 'lm_head.layer_norm.weight', 'lm_head.dense.weight', 'roberta.pooler.dense.weight', 'roberta.pooler.dense.bias', 'lm_head.decoder.bias', 'lm_head.dense.bias', 'lm_head.decoder.weight', 'lm_head.layer_norm.bias']\n",
      "- This IS expected if you are initializing RobertaForSequenceClassification from the checkpoint of a model trained on another task or with another architecture (e.g. initializing a BertForSequenceClassification model from a BertForPreTraining model).\n",
      "- This IS NOT expected if you are initializing RobertaForSequenceClassification from the checkpoint of a model that you expect to be exactly identical (initializing a BertForSequenceClassification model from a BertForSequenceClassification model).\n",
      "Some weights of RobertaForSequenceClassification were not initialized from the model checkpoint at vinai/phobert-base and are newly initialized: ['classifier.out_proj.bias', 'classifier.out_proj.weight', 'classifier.dense.weight', 'classifier.dense.bias']\n",
      "You should probably TRAIN this model on a down-stream task to be able to use it for predictions and inference.\n",
      "Special tokens have been added in the vocabulary, make sure the associated word embeddings are fine-tuned or trained.\n"
     ]
    }
   ],
   "source": [
    "#Load pre-trained phoBERT for finetuning on our dataset\n",
    "model = AutoModelForSequenceClassification.from_pretrained(\"vinai/phobert-base\", num_labels=3)\n",
    "tokenizer = AutoTokenizer.from_pretrained(\"vinai/phobert-base\")"
   ]
  },
  {
   "attachments": {},
   "cell_type": "markdown",
   "metadata": {},
   "source": [
    "## 3. Data Preparation\n",
    "In this section, we will load the dataset from the converted data and prepare for model training"
   ]
  },
  {
   "cell_type": "code",
   "execution_count": 5,
   "metadata": {},
   "outputs": [],
   "source": [
    "def tokenize_function(examples):\n",
    "    tokenized_examples = tokenizer(examples['text'], padding=\"max_length\", truncation=True)\n",
    "    \n",
    "    # Convert label from string to integer\n",
    "    tokenized_examples['label'] = [int(label_id) for label_id in examples['label_id']]\n",
    "    \n",
    "    return tokenized_examples"
   ]
  },
  {
   "cell_type": "code",
   "execution_count": 6,
   "metadata": {},
   "outputs": [
    {
     "name": "stderr",
     "output_type": "stream",
     "text": [
      "Found cached dataset csv (C:/Users/DELL/.cache/huggingface/datasets/csv/default-bf36123f4e2f25d6/0.0.0/6954658bab30a358235fa864b05cf819af0e179325c740e4bc853bcc7ec513e1)\n",
      "Found cached dataset csv (C:/Users/DELL/.cache/huggingface/datasets/csv/default-bf36123f4e2f25d6/0.0.0/6954658bab30a358235fa864b05cf819af0e179325c740e4bc853bcc7ec513e1)\n"
     ]
    }
   ],
   "source": [
    "train_dataset = load_dataset(\"csv\", data_files='data\\\\stock_train.csv', split='train')\n",
    "dev_dataset = load_dataset(\"csv\", data_files='data\\\\stock_train.csv', split=\"train\")"
   ]
  },
  {
   "cell_type": "code",
   "execution_count": 7,
   "metadata": {},
   "outputs": [
    {
     "data": {
      "text/plain": [
       "Dataset({\n",
       "    features: ['text', 'label', 'label_id'],\n",
       "    num_rows: 1516\n",
       "})"
      ]
     },
     "execution_count": 7,
     "metadata": {},
     "output_type": "execute_result"
    }
   ],
   "source": [
    "train_dataset"
   ]
  },
  {
   "cell_type": "code",
   "execution_count": 8,
   "metadata": {},
   "outputs": [
    {
     "name": "stderr",
     "output_type": "stream",
     "text": [
      "Loading cached processed dataset at C:\\Users\\DELL\\.cache\\huggingface\\datasets\\csv\\default-bf36123f4e2f25d6\\0.0.0\\6954658bab30a358235fa864b05cf819af0e179325c740e4bc853bcc7ec513e1\\cache-c65982c41f9cff96.arrow\n",
      "Loading cached shuffled indices for dataset at C:\\Users\\DELL\\.cache\\huggingface\\datasets\\csv\\default-bf36123f4e2f25d6\\0.0.0\\6954658bab30a358235fa864b05cf819af0e179325c740e4bc853bcc7ec513e1\\cache-2984cd2fb4254c22.arrow\n",
      "Loading cached processed dataset at C:\\Users\\DELL\\.cache\\huggingface\\datasets\\csv\\default-bf36123f4e2f25d6\\0.0.0\\6954658bab30a358235fa864b05cf819af0e179325c740e4bc853bcc7ec513e1\\cache-c65982c41f9cff96.arrow\n"
     ]
    }
   ],
   "source": [
    "train_dataset = train_dataset.map(tokenize_function, batched=True).shuffle(seed=seed)\n",
    "dev_dataset = dev_dataset.map(tokenize_function, batched=True)"
   ]
  },
  {
   "attachments": {},
   "cell_type": "markdown",
   "metadata": {},
   "source": [
    "## 4.Model training and Evaluation"
   ]
  },
  {
   "cell_type": "code",
   "execution_count": 44,
   "metadata": {},
   "outputs": [
    {
     "name": "stdout",
     "output_type": "stream",
     "text": [
      "^C\n"
     ]
    },
    {
     "name": "stdout",
     "output_type": "stream",
     "text": [
      "Requirement already satisfied: accelerate in c:\\users\\dell\\programming\\python\\stockreview.introai.20222\\venv\\lib\\site-packages (0.19.0)\n",
      "Requirement already satisfied: pyyaml in c:\\users\\dell\\programming\\python\\stockreview.introai.20222\\venv\\lib\\site-packages (from accelerate) (6.0)\n",
      "Requirement already satisfied: packaging>=20.0 in c:\\users\\dell\\programming\\python\\stockreview.introai.20222\\venv\\lib\\site-packages (from accelerate) (23.1)\n",
      "Requirement already satisfied: torch>=1.6.0 in c:\\users\\dell\\programming\\python\\stockreview.introai.20222\\venv\\lib\\site-packages (from accelerate) (2.0.1)\n",
      "Requirement already satisfied: numpy>=1.17 in c:\\users\\dell\\programming\\python\\stockreview.introai.20222\\venv\\lib\\site-packages (from accelerate) (1.23.5)\n",
      "Requirement already satisfied: psutil in c:\\users\\dell\\programming\\python\\stockreview.introai.20222\\venv\\lib\\site-packages (from accelerate) (5.9.5)\n",
      "Requirement already satisfied: networkx in c:\\users\\dell\\programming\\python\\stockreview.introai.20222\\venv\\lib\\site-packages (from torch>=1.6.0->accelerate) (3.1)\n",
      "Requirement already satisfied: typing-extensions in c:\\users\\dell\\programming\\python\\stockreview.introai.20222\\venv\\lib\\site-packages (from torch>=1.6.0->accelerate) (4.5.0)\n",
      "Requirement already satisfied: jinja2 in c:\\users\\dell\\programming\\python\\stockreview.introai.20222\\venv\\lib\\site-packages (from torch>=1.6.0->accelerate) (3.1.2)\n",
      "Requirement already satisfied: sympy in c:\\users\\dell\\programming\\python\\stockreview.introai.20222\\venv\\lib\\site-packages (from torch>=1.6.0->accelerate) (1.12)\n",
      "Requirement already satisfied: filelock in c:\\users\\dell\\programming\\python\\stockreview.introai.20222\\venv\\lib\\site-packages (from torch>=1.6.0->accelerate) (3.12.0)\n",
      "Requirement already satisfied: MarkupSafe>=2.0 in c:\\users\\dell\\programming\\python\\stockreview.introai.20222\\venv\\lib\\site-packages (from jinja2->torch>=1.6.0->accelerate) (2.1.2)\n",
      "Requirement already satisfied: mpmath>=0.19 in c:\\users\\dell\\programming\\python\\stockreview.introai.20222\\venv\\lib\\site-packages (from sympy->torch>=1.6.0->accelerate) (1.3.0)\n"
     ]
    },
    {
     "name": "stderr",
     "output_type": "stream",
     "text": [
      "WARNING: Retrying (Retry(total=4, connect=None, read=None, redirect=None, status=None)) after connection broken by 'NewConnectionError('<pip._vendor.urllib3.connection.HTTPSConnection object at 0x000002B0ED93D210>: Failed to establish a new connection: [Errno 11001] getaddrinfo failed')': /simple/accelerate/\n",
      "WARNING: Retrying (Retry(total=3, connect=None, read=None, redirect=None, status=None)) after connection broken by 'NewConnectionError('<pip._vendor.urllib3.connection.HTTPSConnection object at 0x000002B0ED93D540>: Failed to establish a new connection: [Errno 11001] getaddrinfo failed')': /simple/accelerate/\n",
      "WARNING: Retrying (Retry(total=2, connect=None, read=None, redirect=None, status=None)) after connection broken by 'NewConnectionError('<pip._vendor.urllib3.connection.HTTPSConnection object at 0x000002B0ED93D2D0>: Failed to establish a new connection: [Errno 11001] getaddrinfo failed')': /simple/accelerate/\n",
      "WARNING: Retrying (Retry(total=1, connect=None, read=None, redirect=None, status=None)) after connection broken by 'NewConnectionError('<pip._vendor.urllib3.connection.HTTPSConnection object at 0x000002B0ED93CAF0>: Failed to establish a new connection: [Errno 11001] getaddrinfo failed')': /simple/accelerate/\n",
      "WARNING: Retrying (Retry(total=0, connect=None, read=None, redirect=None, status=None)) after connection broken by 'NewConnectionError('<pip._vendor.urllib3.connection.HTTPSConnection object at 0x000002B0ED93CD00>: Failed to establish a new connection: [Errno 11001] getaddrinfo failed')': /simple/accelerate/\n",
      "WARNING: You are using pip version 21.2.4; however, version 23.1.2 is available.\n",
      "You should consider upgrading via the 'C:\\Users\\DELL\\Programming\\python\\StockReview.IntroAI.20222\\venv\\Scripts\\python.exe -m pip install --upgrade pip' command.\n"
     ]
    }
   ],
   "source": [
    "!pip install --upgrade accelerate"
   ]
  },
  {
   "attachments": {},
   "cell_type": "markdown",
   "metadata": {},
   "source": [
    "### Basic settings"
   ]
  },
  {
   "cell_type": "code",
   "execution_count": 9,
   "metadata": {},
   "outputs": [],
   "source": [
    "#Hyperparameters\n",
    "training_args = TrainingArguments(\n",
    "  output_dir=\"checkpoint\",\n",
    "  group_by_length=False,\n",
    "  evaluation_strategy=\"steps\",\n",
    "  num_train_epochs=nepochs,\n",
    "  per_device_train_batch_size=batchsize,\n",
    "  save_steps=500,\n",
    "  eval_steps=500,\n",
    "  logging_steps=500,\n",
    "  dataloader_num_workers=3, #tune\n",
    "  learning_rate=learning_rate, #tune\n",
    "  save_total_limit=15, #tune\n",
    "  eval_accumulation_steps=2000, #tune\n",
    "  warmup_ratio=0.1,\n",
    "  report_to='tensorboard'\n",
    ")"
   ]
  },
  {
   "cell_type": "code",
   "execution_count": 10,
   "metadata": {},
   "outputs": [
    {
     "name": "stderr",
     "output_type": "stream",
     "text": [
      "C:\\Users\\DELL\\AppData\\Local\\Temp\\ipykernel_18752\\1968234401.py:1: FutureWarning: load_metric is deprecated and will be removed in the next major version of datasets. Use 'evaluate.load' instead, from the new library 🤗 Evaluate: https://huggingface.co/docs/evaluate\n",
      "  metric = load_metric(\"f1\")\n"
     ]
    }
   ],
   "source": [
    "metric = load_metric(\"f1\")\n",
    "\n",
    "def compute_metrics(eval_pred):\n",
    "    logits, label_id = eval_pred\n",
    "    predictions = np.argmax(logits, axis=-1)\n",
    "    return metric.compute(predictions=predictions, references=label_id, average='weighted')"
   ]
  },
  {
   "attachments": {},
   "cell_type": "markdown",
   "metadata": {},
   "source": [
    "### Training"
   ]
  },
  {
   "cell_type": "code",
   "execution_count": 11,
   "metadata": {},
   "outputs": [],
   "source": [
    "trainer = Trainer(\n",
    "    model=model, args=training_args, train_dataset=train_dataset, eval_dataset=dev_dataset, compute_metrics=compute_metrics\n",
    ")"
   ]
  },
  {
   "cell_type": "code",
   "execution_count": 12,
   "metadata": {},
   "outputs": [
    {
     "name": "stderr",
     "output_type": "stream",
     "text": [
      "c:\\Users\\DELL\\Programming\\python\\StockReview.IntroAI.20222\\venv\\lib\\site-packages\\transformers\\optimization.py:407: FutureWarning: This implementation of AdamW is deprecated and will be removed in a future version. Use the PyTorch implementation torch.optim.AdamW instead, or set `no_deprecation_warning=True` to disable this warning\n",
      "  warnings.warn(\n",
      " 18%|█▊        | 500/2850 [1:16:05<5:03:36,  7.75s/it]"
     ]
    },
    {
     "name": "stdout",
     "output_type": "stream",
     "text": [
      "{'loss': 0.7218, 'learning_rate': 4.580896686159844e-05, 'epoch': 2.63}\n"
     ]
    },
    {
     "name": "stderr",
     "output_type": "stream",
     "text": [
      "                                                      \n",
      " 18%|█▊        | 500/2850 [1:25:02<5:03:36,  7.75s/it]"
     ]
    },
    {
     "name": "stdout",
     "output_type": "stream",
     "text": [
      "{'eval_loss': 0.33370500802993774, 'eval_f1': 0.8959108867254427, 'eval_runtime': 536.6738, 'eval_samples_per_second': 2.825, 'eval_steps_per_second': 0.354, 'epoch': 2.63}\n"
     ]
    },
    {
     "name": "stderr",
     "output_type": "stream",
     "text": [
      " 35%|███▌      | 1000/2850 [2:30:58<3:54:44,  7.61s/it]  "
     ]
    },
    {
     "name": "stdout",
     "output_type": "stream",
     "text": [
      "{'loss': 0.2809, 'learning_rate': 3.606237816764133e-05, 'epoch': 5.26}\n"
     ]
    },
    {
     "name": "stderr",
     "output_type": "stream",
     "text": [
      "                                                       \n",
      " 35%|███▌      | 1000/2850 [2:39:46<3:54:44,  7.61s/it]"
     ]
    },
    {
     "name": "stdout",
     "output_type": "stream",
     "text": [
      "{'eval_loss': 0.0715378150343895, 'eval_f1': 0.9808959387284439, 'eval_runtime': 528.3033, 'eval_samples_per_second': 2.87, 'eval_steps_per_second': 0.36, 'epoch': 5.26}\n"
     ]
    },
    {
     "name": "stderr",
     "output_type": "stream",
     "text": [
      " 53%|█████▎    | 1500/2850 [3:41:29<2:43:29,  7.27s/it]  "
     ]
    },
    {
     "name": "stdout",
     "output_type": "stream",
     "text": [
      "{'loss': 0.0831, 'learning_rate': 2.6315789473684212e-05, 'epoch': 7.89}\n"
     ]
    },
    {
     "name": "stderr",
     "output_type": "stream",
     "text": [
      "                                                       \n",
      " 53%|█████▎    | 1500/2850 [3:49:50<2:43:29,  7.27s/it]"
     ]
    },
    {
     "name": "stdout",
     "output_type": "stream",
     "text": [
      "{'eval_loss': 0.03457590937614441, 'eval_f1': 0.9940629434797804, 'eval_runtime': 500.5094, 'eval_samples_per_second': 3.029, 'eval_steps_per_second': 0.38, 'epoch': 7.89}\n"
     ]
    },
    {
     "name": "stderr",
     "output_type": "stream",
     "text": [
      " 70%|███████   | 2000/2850 [5:21:12<1:42:42,  7.25s/it]   "
     ]
    },
    {
     "name": "stdout",
     "output_type": "stream",
     "text": [
      "{'loss': 0.0323, 'learning_rate': 1.6569200779727097e-05, 'epoch': 10.53}\n"
     ]
    },
    {
     "name": "stderr",
     "output_type": "stream",
     "text": [
      "                                                       \n",
      " 70%|███████   | 2000/2850 [5:29:35<1:42:42,  7.25s/it]"
     ]
    },
    {
     "name": "stdout",
     "output_type": "stream",
     "text": [
      "{'eval_loss': 0.010497677139937878, 'eval_f1': 0.9980212737940849, 'eval_runtime': 502.34, 'eval_samples_per_second': 3.018, 'eval_steps_per_second': 0.378, 'epoch': 10.53}\n"
     ]
    },
    {
     "name": "stderr",
     "output_type": "stream",
     "text": [
      " 88%|████████▊ | 2500/2850 [6:32:29<43:54,  7.53s/it]    "
     ]
    },
    {
     "name": "stdout",
     "output_type": "stream",
     "text": [
      "{'loss': 0.0148, 'learning_rate': 6.82261208576998e-06, 'epoch': 13.16}\n"
     ]
    },
    {
     "name": "stderr",
     "output_type": "stream",
     "text": [
      "                                                     \n",
      " 88%|████████▊ | 2500/2850 [6:41:16<43:54,  7.53s/it]"
     ]
    },
    {
     "name": "stdout",
     "output_type": "stream",
     "text": [
      "{'eval_loss': 0.004323609173297882, 'eval_f1': 0.9986807783469691, 'eval_runtime': 527.103, 'eval_samples_per_second': 2.876, 'eval_steps_per_second': 0.36, 'epoch': 13.16}\n"
     ]
    },
    {
     "name": "stderr",
     "output_type": "stream",
     "text": [
      "100%|██████████| 2850/2850 [7:25:36<00:00,  9.38s/it]    "
     ]
    },
    {
     "name": "stdout",
     "output_type": "stream",
     "text": [
      "{'train_runtime': 26736.2081, 'train_samples_per_second': 0.851, 'train_steps_per_second': 0.107, 'train_loss': 0.1995901364610906, 'epoch': 15.0}\n"
     ]
    },
    {
     "name": "stderr",
     "output_type": "stream",
     "text": [
      "\n"
     ]
    },
    {
     "data": {
      "text/plain": [
       "TrainOutput(global_step=2850, training_loss=0.1995901364610906, metrics={'train_runtime': 26736.2081, 'train_samples_per_second': 0.851, 'train_steps_per_second': 0.107, 'train_loss': 0.1995901364610906, 'epoch': 15.0})"
      ]
     },
     "execution_count": 12,
     "metadata": {},
     "output_type": "execute_result"
    }
   ],
   "source": [
    "trainer.train()"
   ]
  },
  {
   "cell_type": "code",
   "execution_count": 14,
   "metadata": {},
   "outputs": [],
   "source": [
    "model.save_pretrained(\"output/trained_model\")"
   ]
  },
  {
   "cell_type": "code",
   "execution_count": 15,
   "metadata": {},
   "outputs": [
    {
     "data": {
      "text/plain": [
       "RobertaForSequenceClassification(\n",
       "  (roberta): RobertaModel(\n",
       "    (embeddings): RobertaEmbeddings(\n",
       "      (word_embeddings): Embedding(64001, 768, padding_idx=1)\n",
       "      (position_embeddings): Embedding(258, 768, padding_idx=1)\n",
       "      (token_type_embeddings): Embedding(1, 768)\n",
       "      (LayerNorm): LayerNorm((768,), eps=1e-05, elementwise_affine=True)\n",
       "      (dropout): Dropout(p=0.1, inplace=False)\n",
       "    )\n",
       "    (encoder): RobertaEncoder(\n",
       "      (layer): ModuleList(\n",
       "        (0-11): 12 x RobertaLayer(\n",
       "          (attention): RobertaAttention(\n",
       "            (self): RobertaSelfAttention(\n",
       "              (query): Linear(in_features=768, out_features=768, bias=True)\n",
       "              (key): Linear(in_features=768, out_features=768, bias=True)\n",
       "              (value): Linear(in_features=768, out_features=768, bias=True)\n",
       "              (dropout): Dropout(p=0.1, inplace=False)\n",
       "            )\n",
       "            (output): RobertaSelfOutput(\n",
       "              (dense): Linear(in_features=768, out_features=768, bias=True)\n",
       "              (LayerNorm): LayerNorm((768,), eps=1e-05, elementwise_affine=True)\n",
       "              (dropout): Dropout(p=0.1, inplace=False)\n",
       "            )\n",
       "          )\n",
       "          (intermediate): RobertaIntermediate(\n",
       "            (dense): Linear(in_features=768, out_features=3072, bias=True)\n",
       "            (intermediate_act_fn): GELUActivation()\n",
       "          )\n",
       "          (output): RobertaOutput(\n",
       "            (dense): Linear(in_features=3072, out_features=768, bias=True)\n",
       "            (LayerNorm): LayerNorm((768,), eps=1e-05, elementwise_affine=True)\n",
       "            (dropout): Dropout(p=0.1, inplace=False)\n",
       "          )\n",
       "        )\n",
       "      )\n",
       "    )\n",
       "  )\n",
       "  (classifier): RobertaClassificationHead(\n",
       "    (dense): Linear(in_features=768, out_features=768, bias=True)\n",
       "    (dropout): Dropout(p=0.1, inplace=False)\n",
       "    (out_proj): Linear(in_features=768, out_features=3, bias=True)\n",
       "  )\n",
       ")"
      ]
     },
     "execution_count": 15,
     "metadata": {},
     "output_type": "execute_result"
    }
   ],
   "source": [
    "model.eval()"
   ]
  },
  {
   "cell_type": "code",
   "execution_count": 16,
   "metadata": {},
   "outputs": [],
   "source": [
    "device = 'cpu'"
   ]
  },
  {
   "attachments": {},
   "cell_type": "markdown",
   "metadata": {},
   "source": [
    "### Evaluation on test set"
   ]
  },
  {
   "cell_type": "code",
   "execution_count": 17,
   "metadata": {},
   "outputs": [],
   "source": [
    "test_data = pd.read_csv('data/stock_test.csv')\n",
    "\n",
    "predictions = []\n",
    "labels = []"
   ]
  },
  {
   "cell_type": "code",
   "execution_count": 18,
   "metadata": {},
   "outputs": [
    {
     "data": {
      "text/html": [
       "<div>\n",
       "<style scoped>\n",
       "    .dataframe tbody tr th:only-of-type {\n",
       "        vertical-align: middle;\n",
       "    }\n",
       "\n",
       "    .dataframe tbody tr th {\n",
       "        vertical-align: top;\n",
       "    }\n",
       "\n",
       "    .dataframe thead th {\n",
       "        text-align: right;\n",
       "    }\n",
       "</style>\n",
       "<table border=\"1\" class=\"dataframe\">\n",
       "  <thead>\n",
       "    <tr style=\"text-align: right;\">\n",
       "      <th></th>\n",
       "      <th>text</th>\n",
       "      <th>label</th>\n",
       "      <th>label_id</th>\n",
       "    </tr>\n",
       "  </thead>\n",
       "  <tbody>\n",
       "    <tr>\n",
       "      <th>0</th>\n",
       "      <td>Tại 2 thị trường lớn khác là Hà Nội và Đà Nẵng...</td>\n",
       "      <td>positive</td>\n",
       "      <td>0</td>\n",
       "    </tr>\n",
       "    <tr>\n",
       "      <th>1</th>\n",
       "      <td>Như vậy, trong 2 ngày qua, giá vàng nhẫn đã tă...</td>\n",
       "      <td>positive</td>\n",
       "      <td>0</td>\n",
       "    </tr>\n",
       "    <tr>\n",
       "      <th>2</th>\n",
       "      <td>Giá vàng thế giới bật tăng trở lại, khi lực cầ...</td>\n",
       "      <td>positive</td>\n",
       "      <td>0</td>\n",
       "    </tr>\n",
       "    <tr>\n",
       "      <th>3</th>\n",
       "      <td>Tại thị trường thế giới, thời điểm lúc 9 giờ 3...</td>\n",
       "      <td>positive</td>\n",
       "      <td>0</td>\n",
       "    </tr>\n",
       "    <tr>\n",
       "      <th>4</th>\n",
       "      <td>Tuy nhiên, sau đó lực cầu bắt đáy mạnh đã giúp...</td>\n",
       "      <td>positive</td>\n",
       "      <td>0</td>\n",
       "    </tr>\n",
       "    <tr>\n",
       "      <th>...</th>\n",
       "      <td>...</td>\n",
       "      <td>...</td>\n",
       "      <td>...</td>\n",
       "    </tr>\n",
       "    <tr>\n",
       "      <th>1135</th>\n",
       "      <td>Ngoài 47 triệu cổ phiếu khớp lệnh, HAG còn ghi...</td>\n",
       "      <td>neutral</td>\n",
       "      <td>2</td>\n",
       "    </tr>\n",
       "    <tr>\n",
       "      <th>1136</th>\n",
       "      <td>báo cáo giải trình của SHS cho biết</td>\n",
       "      <td>neutral</td>\n",
       "      <td>2</td>\n",
       "    </tr>\n",
       "    <tr>\n",
       "      <th>1137</th>\n",
       "      <td>Cuối quý I, SHS nắm giữ 2.240 tỷ đồng cổ phiếu...</td>\n",
       "      <td>neutral</td>\n",
       "      <td>2</td>\n",
       "    </tr>\n",
       "    <tr>\n",
       "      <th>1138</th>\n",
       "      <td>SHS còn nắm giữ hơn 420 tỷ đồng TCB với giá tr...</td>\n",
       "      <td>neutral</td>\n",
       "      <td>2</td>\n",
       "    </tr>\n",
       "    <tr>\n",
       "      <th>1139</th>\n",
       "      <td>Chứng khoán BOS thay dàn lãnh đạo mới</td>\n",
       "      <td>neutral</td>\n",
       "      <td>2</td>\n",
       "    </tr>\n",
       "  </tbody>\n",
       "</table>\n",
       "<p>1140 rows × 3 columns</p>\n",
       "</div>"
      ],
      "text/plain": [
       "                                                   text     label  label_id\n",
       "0     Tại 2 thị trường lớn khác là Hà Nội và Đà Nẵng...  positive         0\n",
       "1     Như vậy, trong 2 ngày qua, giá vàng nhẫn đã tă...  positive         0\n",
       "2     Giá vàng thế giới bật tăng trở lại, khi lực cầ...  positive         0\n",
       "3     Tại thị trường thế giới, thời điểm lúc 9 giờ 3...  positive         0\n",
       "4     Tuy nhiên, sau đó lực cầu bắt đáy mạnh đã giúp...  positive         0\n",
       "...                                                 ...       ...       ...\n",
       "1135  Ngoài 47 triệu cổ phiếu khớp lệnh, HAG còn ghi...   neutral         2\n",
       "1136                báo cáo giải trình của SHS cho biết   neutral         2\n",
       "1137  Cuối quý I, SHS nắm giữ 2.240 tỷ đồng cổ phiếu...   neutral         2\n",
       "1138  SHS còn nắm giữ hơn 420 tỷ đồng TCB với giá tr...   neutral         2\n",
       "1139              Chứng khoán BOS thay dàn lãnh đạo mới   neutral         2\n",
       "\n",
       "[1140 rows x 3 columns]"
      ]
     },
     "execution_count": 18,
     "metadata": {},
     "output_type": "execute_result"
    }
   ],
   "source": [
    "test_data"
   ]
  },
  {
   "cell_type": "code",
   "execution_count": 19,
   "metadata": {},
   "outputs": [
    {
     "name": "stderr",
     "output_type": "stream",
     "text": [
      "100%|██████████| 1140/1140 [05:47<00:00,  3.28it/s]\n"
     ]
    }
   ],
   "source": [
    "for i in tqdm(range(test_data.shape[0])):\n",
    "    input_str = test_data['text'][i]\n",
    "\n",
    "    input_values = tokenizer(input_str, return_tensors=\"pt\", truncation=True, padding='max_length').input_ids.to(device)\n",
    "    logits = model(input_values).logits\n",
    "\n",
    "    prediction = np.argmax(logits.cpu().detach().numpy(), axis=-1)[0]\n",
    "\n",
    "    labels.append(int(test_data['label_id'][i]))\n",
    "    predictions.append(int(prediction))"
   ]
  },
  {
   "cell_type": "code",
   "execution_count": 31,
   "metadata": {},
   "outputs": [
    {
     "name": "stdout",
     "output_type": "stream",
     "text": [
      "              precision    recall  f1-score   support\n",
      "\n",
      "    positive       0.89      0.65      0.75       373\n",
      "    negative       0.92      0.72      0.81       341\n",
      "     neutral       0.65      0.91      0.76       426\n",
      "\n",
      "    accuracy                           0.77      1140\n",
      "   macro avg       0.82      0.76      0.77      1140\n",
      "weighted avg       0.81      0.77      0.77      1140\n",
      "\n"
     ]
    },
    {
     "data": {
      "image/png": "[encoded data removed]",
      "text/plain": [
       "<Figure size 640x480 with 2 Axes>"
      ]
     },
     "metadata": {},
     "output_type": "display_data"
    }
   ],
   "source": [
    "target_names = ['positive',\n",
    " 'negative',\n",
    " 'neutral']\n",
    "print(classification_report(labels, predictions, target_names=target_names, digits=2))\n",
    "\n",
    "cm = confusion_matrix(labels, predictions)\n",
    "_display = ConfusionMatrixDisplay(confusion_matrix=cm, display_labels=target_names)\n",
    "_display.plot()\n",
    "plt.show()"
   ]
  }
 ],
 "metadata": {
  "kernelspec": {
   "display_name": "venv",
   "language": "python",
   "name": "python3"
  },
  "language_info": {
   "codemirror_mode": {
    "name": "ipython",
    "version": 3
   },
   "file_extension": ".py",
   "mimetype": "text/x-python",
   "name": "python",
   "nbconvert_exporter": "python",
   "pygments_lexer": "ipython3",
   "version": "3.10.2"
  },
  "orig_nbformat": 4
 },
 "nbformat": 4,
 "nbformat_minor": 2
}
