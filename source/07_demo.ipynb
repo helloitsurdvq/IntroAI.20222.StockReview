{
 "cells": [
  {
   "attachments": {},
   "cell_type": "markdown",
   "metadata": {},
   "source": [
    "# Demonstration for each model"
   ]
  },
  {
   "attachments": {},
   "cell_type": "markdown",
   "metadata": {},
   "source": [
    "### General Settings and Import Libraries"
   ]
  },
  {
   "attachments": {},
   "cell_type": "markdown",
   "metadata": {},
   "source": [
    "*Instruction: please change the file path of the models*\n",
    "- For Random Forest model, the saved-model file path is `trained_tfidf_rf\\rf_tfidfModel.pkl`\n",
    "- For the Deep bidirectional LSTM and GRU testing, the saved-model directory are `trained_dbgru`, `trained_dblstm`.\n",
    "- For the PhoBERT model, the saved model is the `trained_Bertmodel` directory.\n",
    "- For the XLM-RoBERTs model, the saved-model file is `model_max_weighted_f1.pth`, the file path setup is also up to you.\n",
    "Those trained model can also used for deployment."
   ]
  },
  {
   "cell_type": "code",
   "execution_count": 25,
   "metadata": {},
   "outputs": [],
   "source": [
    "import pprint\n",
    "import numpy as np\n",
    "import pandas as pd\n",
    "import pickle\n",
    "import numpy as np\n",
    "import pandas as pd\n",
    "import seaborn as sns\n",
    "import matplotlib.pyplot as plt\n",
    "import matplotlib.style\n",
    "import matplotlib as mpl\n",
    "mpl.style.use('classic')\n",
    "from tqdm import tqdm\n",
    "\n",
    "from sklearn import preprocessing, metrics\n",
    "from sklearn.metrics import classification_report, confusion_matrix, ConfusionMatrixDisplay\n",
    "\n",
    "import torch\n",
    "from torch import Tensor\n",
    "from torch.utils.data import DataLoader\n",
    "from torch.optim import AdamW\n",
    "\n",
    "import torchtext\n",
    "import torchtext.transforms as T\n",
    "import torchtext.functional as F\n",
    "from torchtext.models import RobertaClassificationHead, XLMR_BASE_ENCODER\n",
    "\n",
    "\n",
    "import tensorflow as tf\n",
    "from tensorflow import keras\n",
    "from keras import Sequential\n",
    "from keras import layers\n",
    "\n",
    "from transformers import RobertaModel, RobertaConfig, RobertaTokenizer\n",
    "from transformers import AutoTokenizer, AutoModelForSequenceClassification, Trainer, TrainingArguments, AutoModel\n",
    "from datasets import load_dataset, load_metric"
   ]
  },
  {
   "attachments": {},
   "cell_type": "markdown",
   "metadata": {},
   "source": [
    "## 1. DBGRU"
   ]
  },
  {
   "cell_type": "code",
   "execution_count": 26,
   "metadata": {},
   "outputs": [],
   "source": [
    "dbgru = tf.keras.models.load_model('output/trained_dbgru') #manually change the path suitable for training"
   ]
  },
  {
   "cell_type": "code",
   "execution_count": 27,
   "metadata": {},
   "outputs": [
    {
     "name": "stdout",
     "output_type": "stream",
     "text": [
      "Model: \"sequential_1\"\n",
      "_________________________________________________________________\n",
      " Layer (type)                Output Shape              Param #   \n",
      "=================================================================\n",
      " text_vectorization (TextVec  (None, None)             0         \n",
      " torization)                                                     \n",
      "                                                                 \n",
      " embedding_1 (Embedding)     (None, None, 128)         291712    \n",
      "                                                                 \n",
      " bidirectional_2 (Bidirectio  (None, None, 128)        74496     \n",
      " nal)                                                            \n",
      "                                                                 \n",
      " dropout_2 (Dropout)         (None, None, 128)         0         \n",
      "                                                                 \n",
      " bidirectional_3 (Bidirectio  (None, 64)               31104     \n",
      " nal)                                                            \n",
      "                                                                 \n",
      " dropout_3 (Dropout)         (None, 64)                0         \n",
      "                                                                 \n",
      " dense_2 (Dense)             (None, 32)                2080      \n",
      "                                                                 \n",
      " dense_3 (Dense)             (None, 3)                 99        \n",
      "                                                                 \n",
      "=================================================================\n",
      "Total params: 399,491\n",
      "Trainable params: 399,491\n",
      "Non-trainable params: 0\n",
      "_________________________________________________________________\n"
     ]
    }
   ],
   "source": [
    "dbgru.summary()"
   ]
  },
  {
   "cell_type": "code",
   "execution_count": 28,
   "metadata": {},
   "outputs": [],
   "source": [
    "label_mapping = {\n",
    "    0: 'positive',\n",
    "    1: 'negative',\n",
    "    2: 'neutral'\n",
    "}\n",
    "sample_text = 'Tính chung cả tuần, VN-Index có 4 phiên tăng và 1 phiên giảm, tích lũy 27 điểm so với tuần trước. Thanh khoản thị trường được cải thiện đáng kể so với khoảng ba tháng trở lại đây khi không ghi nhận phiên nào dưới 13.500 tỷ đồng.'"
   ]
  },
  {
   "cell_type": "code",
   "execution_count": 30,
   "metadata": {},
   "outputs": [
    {
     "name": "stdout",
     "output_type": "stream",
     "text": [
      "1/1 [==============================] - 0s 62ms/step\n",
      "3 công ty thuộc nhóm APEC lên tiếng về vụ Thao túng chứng khoán vừa bị khởi tố\n"
     ]
    },
    {
     "data": {
      "image/png": "[encoded data removed]",
      "text/plain": [
       "<Figure size 640x480 with 1 Axes>"
      ]
     },
     "metadata": {},
     "output_type": "display_data"
    }
   ],
   "source": [
    "sample1 = input()\n",
    "prediction = dbgru.predict([sample1])[0]\n",
    "predicted_probs = prediction.tolist()\n",
    "labeling = [label_mapping[i] for i in range(len(predicted_probs))]\n",
    "colors = ['#00FF00', '#FF0000', '#0000FF'] #RGB\n",
    "\n",
    "print(sample1)\n",
    "plt.pie(predicted_probs, autopct='%1.1f%%', colors=colors, shadow=True)\n",
    "color_patches = [plt.Rectangle((0, 0), 1, 1, fc=color) for color in colors]\n",
    "plt.legend(color_patches, labeling, loc='center left', bbox_to_anchor=(1, 0.5))\n",
    "plt.title('Prediction by DBGRU')\n",
    "plt.show()"
   ]
  },
  {
   "attachments": {},
   "cell_type": "markdown",
   "metadata": {},
   "source": [
    "## 2. DBLSTM"
   ]
  },
  {
   "cell_type": "code",
   "execution_count": 31,
   "metadata": {},
   "outputs": [],
   "source": [
    "dblstm = tf.keras.models.load_model('output/trained_dblstm') #manually change the path suitable for training"
   ]
  },
  {
   "cell_type": "code",
   "execution_count": 32,
   "metadata": {},
   "outputs": [
    {
     "name": "stdout",
     "output_type": "stream",
     "text": [
      "Model: \"sequential\"\n",
      "_________________________________________________________________\n",
      " Layer (type)                Output Shape              Param #   \n",
      "=================================================================\n",
      " text_vectorization (TextVec  (None, None)             0         \n",
      " torization)                                                     \n",
      "                                                                 \n",
      " embedding (Embedding)       (None, None, 128)         291712    \n",
      "                                                                 \n",
      " bidirectional (Bidirectiona  (None, None, 128)        98816     \n",
      " l)                                                              \n",
      "                                                                 \n",
      " dropout (Dropout)           (None, None, 128)         0         \n",
      "                                                                 \n",
      " bidirectional_1 (Bidirectio  (None, 64)               41216     \n",
      " nal)                                                            \n",
      "                                                                 \n",
      " dropout_1 (Dropout)         (None, 64)                0         \n",
      "                                                                 \n",
      " dense (Dense)               (None, 32)                2080      \n",
      "                                                                 \n",
      " dense_1 (Dense)             (None, 3)                 99        \n",
      "                                                                 \n",
      "=================================================================\n",
      "Total params: 433,923\n",
      "Trainable params: 433,923\n",
      "Non-trainable params: 0\n",
      "_________________________________________________________________\n"
     ]
    }
   ],
   "source": [
    "dblstm.summary()"
   ]
  },
  {
   "cell_type": "code",
   "execution_count": 33,
   "metadata": {},
   "outputs": [],
   "source": [
    "label_mapping = {\n",
    "    0: 'positive',\n",
    "    1: 'negative',\n",
    "    2: 'neutral'\n",
    "}\n",
    "sample_text = 'Báo động nợ xấu ở một số ngân hàng'"
   ]
  },
  {
   "cell_type": "code",
   "execution_count": 35,
   "metadata": {},
   "outputs": [
    {
     "name": "stdout",
     "output_type": "stream",
     "text": [
      "1/1 [==============================] - 0s 83ms/step\n",
      "Kỷ nguyên đầu tư chứng khoán dựa trên trí tuệ nhân tạo\n"
     ]
    },
    {
     "data": {
      "image/png": "[encoded data removed]",
      "text/plain": [
       "<Figure size 640x480 with 1 Axes>"
      ]
     },
     "metadata": {},
     "output_type": "display_data"
    }
   ],
   "source": [
    "sample2 = input()\n",
    "prediction = dblstm.predict([sample2])[0]\n",
    "predicted_probs = prediction.tolist()\n",
    "labeling = [label_mapping[i] for i in range(len(predicted_probs))]\n",
    "colors = ['#00FF00', '#FF0000', '#0000FF'] #RGB\n",
    "\n",
    "print(sample2)\n",
    "plt.pie(predicted_probs, autopct='%1.1f%%', colors=colors, shadow=True)\n",
    "color_patches = [plt.Rectangle((0, 0), 1, 1, fc=color) for color in colors]\n",
    "plt.legend(color_patches, labeling, loc='center left', bbox_to_anchor=(1, 0.5))\n",
    "plt.title('Prediction by DBLSTM')\n",
    "plt.show()"
   ]
  },
  {
   "attachments": {},
   "cell_type": "markdown",
   "metadata": {},
   "source": [
    "## 3. phoBERT"
   ]
  },
  {
   "cell_type": "code",
   "execution_count": 36,
   "metadata": {},
   "outputs": [
    {
     "name": "stderr",
     "output_type": "stream",
     "text": [
      "Special tokens have been added in the vocabulary, make sure the associated word embeddings are fine-tuned or trained.\n"
     ]
    }
   ],
   "source": [
    "tokenizer = AutoTokenizer.from_pretrained(\"vinai/phobert-base-v2\")\n",
    "phoBERTmodel = AutoModelForSequenceClassification.from_pretrained('output/trained_Bertmodel')"
   ]
  },
  {
   "cell_type": "code",
   "execution_count": 37,
   "metadata": {},
   "outputs": [
    {
     "data": {
      "text/plain": [
       "RobertaConfig {\n",
       "  \"_name_or_path\": \"vinai/phobert-base\",\n",
       "  \"architectures\": [\n",
       "    \"RobertaForSequenceClassification\"\n",
       "  ],\n",
       "  \"attention_probs_dropout_prob\": 0.1,\n",
       "  \"bos_token_id\": 0,\n",
       "  \"classifier_dropout\": null,\n",
       "  \"eos_token_id\": 2,\n",
       "  \"gradient_checkpointing\": false,\n",
       "  \"hidden_act\": \"gelu\",\n",
       "  \"hidden_dropout_prob\": 0.1,\n",
       "  \"hidden_size\": 768,\n",
       "  \"id2label\": {\n",
       "    \"0\": \"LABEL_0\",\n",
       "    \"1\": \"LABEL_1\",\n",
       "    \"2\": \"LABEL_2\"\n",
       "  },\n",
       "  \"initializer_range\": 0.02,\n",
       "  \"intermediate_size\": 3072,\n",
       "  \"label2id\": {\n",
       "    \"LABEL_0\": 0,\n",
       "    \"LABEL_1\": 1,\n",
       "    \"LABEL_2\": 2\n",
       "  },\n",
       "  \"layer_norm_eps\": 1e-05,\n",
       "  \"max_position_embeddings\": 258,\n",
       "  \"model_type\": \"roberta\",\n",
       "  \"num_attention_heads\": 12,\n",
       "  \"num_hidden_layers\": 12,\n",
       "  \"pad_token_id\": 1,\n",
       "  \"position_embedding_type\": \"absolute\",\n",
       "  \"problem_type\": \"single_label_classification\",\n",
       "  \"tokenizer_class\": \"PhobertTokenizer\",\n",
       "  \"torch_dtype\": \"float32\",\n",
       "  \"transformers_version\": \"4.29.2\",\n",
       "  \"type_vocab_size\": 1,\n",
       "  \"use_cache\": true,\n",
       "  \"vocab_size\": 64001\n",
       "}"
      ]
     },
     "execution_count": 37,
     "metadata": {},
     "output_type": "execute_result"
    }
   ],
   "source": [
    "phoBERTmodel.config.from_pretrained('output/trained_Bertmodel/config.json')"
   ]
  },
  {
   "cell_type": "code",
   "execution_count": 38,
   "metadata": {},
   "outputs": [
    {
     "data": {
      "text/plain": [
       "RobertaForSequenceClassification(\n",
       "  (roberta): RobertaModel(\n",
       "    (embeddings): RobertaEmbeddings(\n",
       "      (word_embeddings): Embedding(64001, 768, padding_idx=1)\n",
       "      (position_embeddings): Embedding(258, 768, padding_idx=1)\n",
       "      (token_type_embeddings): Embedding(1, 768)\n",
       "      (LayerNorm): LayerNorm((768,), eps=1e-05, elementwise_affine=True)\n",
       "      (dropout): Dropout(p=0.1, inplace=False)\n",
       "    )\n",
       "    (encoder): RobertaEncoder(\n",
       "      (layer): ModuleList(\n",
       "        (0-11): 12 x RobertaLayer(\n",
       "          (attention): RobertaAttention(\n",
       "            (self): RobertaSelfAttention(\n",
       "              (query): Linear(in_features=768, out_features=768, bias=True)\n",
       "              (key): Linear(in_features=768, out_features=768, bias=True)\n",
       "              (value): Linear(in_features=768, out_features=768, bias=True)\n",
       "              (dropout): Dropout(p=0.1, inplace=False)\n",
       "            )\n",
       "            (output): RobertaSelfOutput(\n",
       "              (dense): Linear(in_features=768, out_features=768, bias=True)\n",
       "              (LayerNorm): LayerNorm((768,), eps=1e-05, elementwise_affine=True)\n",
       "              (dropout): Dropout(p=0.1, inplace=False)\n",
       "            )\n",
       "          )\n",
       "          (intermediate): RobertaIntermediate(\n",
       "            (dense): Linear(in_features=768, out_features=3072, bias=True)\n",
       "            (intermediate_act_fn): GELUActivation()\n",
       "          )\n",
       "          (output): RobertaOutput(\n",
       "            (dense): Linear(in_features=3072, out_features=768, bias=True)\n",
       "            (LayerNorm): LayerNorm((768,), eps=1e-05, elementwise_affine=True)\n",
       "            (dropout): Dropout(p=0.1, inplace=False)\n",
       "          )\n",
       "        )\n",
       "      )\n",
       "    )\n",
       "  )\n",
       "  (classifier): RobertaClassificationHead(\n",
       "    (dense): Linear(in_features=768, out_features=768, bias=True)\n",
       "    (dropout): Dropout(p=0.1, inplace=False)\n",
       "    (out_proj): Linear(in_features=768, out_features=3, bias=True)\n",
       "  )\n",
       ")"
      ]
     },
     "execution_count": 38,
     "metadata": {},
     "output_type": "execute_result"
    }
   ],
   "source": [
    "phoBERTmodel.eval()"
   ]
  },
  {
   "cell_type": "code",
   "execution_count": 40,
   "metadata": {},
   "outputs": [
    {
     "name": "stdout",
     "output_type": "stream",
     "text": [
      "Tính chung cả tuần, VN-Index có 4 phiên tăng và 1 phiên giảm, tích lũy 27 điểm so với tuần trước. Thanh khoản thị trường được cải thiện đáng kể so với khoảng ba tháng trở lại đây khi không ghi nhận phiên nào dưới 13.500 tỷ đồng\n",
      "tensor([[ 6.2421, -4.2458, -1.8478]])\n"
     ]
    }
   ],
   "source": [
    "sample_text = 'Báo động nợ xấu tăng ở một số ngân hàng'\n",
    "sample3 = input()\n",
    "inputs = tokenizer(sample3, padding=True, truncation=True, return_tensors=\"pt\")\n",
    "\n",
    "with torch.no_grad():\n",
    "    outputs = phoBERTmodel(**inputs)\n",
    "\n",
    "predictions = outputs.logits\n",
    "print(sample3)\n",
    "print(predictions)"
   ]
  },
  {
   "attachments": {},
   "cell_type": "markdown",
   "metadata": {},
   "source": [
    "## 4. XLM - RoBERTa"
   ]
  },
  {
   "cell_type": "code",
   "execution_count": 41,
   "metadata": {},
   "outputs": [],
   "source": [
    "DEVICE = torch.device(\"cuda\") if torch.cuda.is_available() else torch.device(\"cpu\")"
   ]
  },
  {
   "cell_type": "code",
   "execution_count": 42,
   "metadata": {},
   "outputs": [],
   "source": [
    "def prepare_xlmroberta_model():\n",
    "    num_classes = 3\n",
    "    input_dim = 768\n",
    "\n",
    "    classifier_head = RobertaClassificationHead(num_classes=num_classes, input_dim=input_dim)\n",
    "    model = XLMR_BASE_ENCODER.get_model(head=classifier_head)\n",
    "    \n",
    "    DEMO_MODEL_PATH = 'output/trained_XLMRoBERTa/model_max_weighted_f1.pth'\n",
    "    model.load_state_dict(torch.load(DEMO_MODEL_PATH))\n",
    "    model.to(DEVICE)\n",
    "    \n",
    "    print(f'Loaded model to [{DEVICE}] in [{DEMO_MODEL_PATH}]')\n",
    "    return model"
   ]
  },
  {
   "cell_type": "code",
   "execution_count": 43,
   "metadata": {},
   "outputs": [],
   "source": [
    "def prepare_text_transform():\n",
    "    text_transform = torchtext.models.XLMR_LARGE_ENCODER.transform()\n",
    "    return text_transform"
   ]
  },
  {
   "cell_type": "code",
   "execution_count": 44,
   "metadata": {},
   "outputs": [],
   "source": [
    "def predict_xlmRoberta(sentence, model, text_transform, label_map):\n",
    "    transformed_text = text_transform(sentence)\n",
    "    out = model(torch.tensor([transformed_text]).to(DEVICE))\n",
    "    probabilities = torch.softmax(out, dim=1).squeeze().detach().cpu().numpy()\n",
    "    predicted_label = label_map[torch.argmax(out).item()]\n",
    "    return probabilities, predicted_label"
   ]
  },
  {
   "cell_type": "code",
   "execution_count": 45,
   "metadata": {},
   "outputs": [],
   "source": [
    "label_map = {\n",
    "    0: 'negative',\n",
    "    1: 'neutral',\n",
    "    2: 'postive'\n",
    "}"
   ]
  },
  {
   "cell_type": "code",
   "execution_count": 46,
   "metadata": {},
   "outputs": [
    {
     "name": "stdout",
     "output_type": "stream",
     "text": [
      "Loaded model to [cpu] in [output/trained_XLMRoBERTa/model_max_weighted_f1.pth]\n"
     ]
    }
   ],
   "source": [
    "XLMmodel = prepare_xlmroberta_model()\n",
    "text_transform = prepare_text_transform()"
   ]
  },
  {
   "cell_type": "code",
   "execution_count": 11,
   "metadata": {},
   "outputs": [],
   "source": [
    "sample_text = '\\\"Đây là cơ sở để Hà Tĩnh tiếp tục triển khai các định hướng chiến lược phát triển, liên kết chặt chẽ với các tỉnh trong vùng phát triển kinh tế - xã hội đảm bảo quốc phòng - an ninh cả vùng Bắc Trung bộ và duyên hải Trung Bộ đến năm 2030, tầm nhìn đến năm 2045\\\"'"
   ]
  },
  {
   "cell_type": "code",
   "execution_count": 49,
   "metadata": {},
   "outputs": [
    {
     "name": "stdout",
     "output_type": "stream",
     "text": [
      "Kinh doanh thuận lợi, doanh thu hợp nhất năm 2022 của One Capital Hospitality (OCH) đạt 228% so với năm 2021\n"
     ]
    },
    {
     "data": {
      "image/png": "[encoded data removed]",
      "text/plain": [
       "<Figure size 640x480 with 1 Axes>"
      ]
     },
     "metadata": {},
     "output_type": "display_data"
    }
   ],
   "source": [
    "sample4 = input()\n",
    "probabilities, predicted_label = predict_xlmRoberta(sample4, XLMmodel, text_transform, label_map)\n",
    "\n",
    "colors = ['#FF0000', '#0000FF', '#00FF00']\n",
    "percentages = probabilities * 100\n",
    "\n",
    "print(sample4)\n",
    "plt.pie(percentages, labels=label_map.values(), autopct='%1.1f%%', colors=colors)\n",
    "plt.axis('equal')\n",
    "plt.title('Prediction by XLM - RoBERTa')\n",
    "plt.show()"
   ]
  }
 ],
 "metadata": {
  "kernelspec": {
   "display_name": "venv",
   "language": "python",
   "name": "python3"
  },
  "language_info": {
   "codemirror_mode": {
    "name": "ipython",
    "version": 3
   },
   "file_extension": ".py",
   "mimetype": "text/x-python",
   "name": "python",
   "nbconvert_exporter": "python",
   "pygments_lexer": "ipython3",
   "version": "3.10.2"
  },
  "orig_nbformat": 4
 },
 "nbformat": 4,
 "nbformat_minor": 2
}
